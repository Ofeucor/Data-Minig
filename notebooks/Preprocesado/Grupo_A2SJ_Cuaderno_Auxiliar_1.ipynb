{
  "nbformat": 4,
  "nbformat_minor": 0,
  "metadata": {
    "colab": {
      "name": "Grupo A2SJ: Cuaderno Auxiliar 1",
      "provenance": [],
      "collapsed_sections": [],
      "toc_visible": true
    },
    "kernelspec": {
      "display_name": "Python 3",
      "name": "python3"
    }
  },
  "cells": [
    {
      "cell_type": "markdown",
      "metadata": {
        "id": "0Mlf6uL0ZhEj"
      },
      "source": [
        "En este cuaderno se va a proceder a estudiar la posibilidad de usar en el futuro modelo las columnas del dataset principal que hacen referencia a la media y a la mediana de tiempo jugado por videojuego. \r\n",
        "\r\n",
        "Ya que en el dataset principal, los registros que cuentan con estos datos son pocos, vamos a proceder a intentar conseguir complementar los registros que no tengan estos datos con la ayuda de un dataset de apoyo."
      ]
    },
    {
      "cell_type": "markdown",
      "metadata": {
        "id": "JhZiup3KzZD6"
      },
      "source": [
        "## 0. Librerías"
      ]
    },
    {
      "cell_type": "code",
      "metadata": {
        "id": "Z31KI66HvFSU"
      },
      "source": [
        "# Carga y manipulación de datos\r\n",
        "from google.colab import files\r\n",
        "import io\r\n",
        " \r\n",
        "# DataFrame librery\r\n",
        "import pandas as pd"
      ],
      "execution_count": null,
      "outputs": []
    },
    {
      "cell_type": "markdown",
      "metadata": {
        "id": "rvb6j9VBvZNy"
      },
      "source": [
        "## 1. Carga de datos\r\n",
        "\r\n",
        "Se cargarán dos dataset, **steam_games**, que hace referencia al dataset principal, y **hours_played**, el dataset de apoyo del que intentaremos extraer los máximos datos posibles."
      ]
    },
    {
      "cell_type": "code",
      "metadata": {
        "id": "6f52oaWEvYul"
      },
      "source": [
        "steam_games = pd.read_csv('steam.csv', sep=',') ## Dataset principal\r\n",
        "hours_played = pd.read_csv('hours_played.csv', sep=',',quotechar='\"') ## Dataset de apoyo"
      ],
      "execution_count": null,
      "outputs": []
    },
    {
      "cell_type": "markdown",
      "metadata": {
        "id": "8pd0EhqTwaIo"
      },
      "source": [
        "## 2. Dataset principal"
      ]
    },
    {
      "cell_type": "code",
      "metadata": {
        "colab": {
          "base_uri": "https://localhost:8080/",
          "height": 574
        },
        "id": "0i5QrSIYv3c3",
        "outputId": "789e000d-5499-45ed-b4e4-e8db2fec86d3"
      },
      "source": [
        "print(\"Número de registros: \" + str(len(steam_games)))\r\n",
        "steam_games.head()"
      ],
      "execution_count": null,
      "outputs": [
        {
          "output_type": "stream",
          "text": [
            "Número de registros: 27075\n"
          ],
          "name": "stdout"
        },
        {
          "output_type": "execute_result",
          "data": {
            "text/html": [
              "<div>\n",
              "<style scoped>\n",
              "    .dataframe tbody tr th:only-of-type {\n",
              "        vertical-align: middle;\n",
              "    }\n",
              "\n",
              "    .dataframe tbody tr th {\n",
              "        vertical-align: top;\n",
              "    }\n",
              "\n",
              "    .dataframe thead th {\n",
              "        text-align: right;\n",
              "    }\n",
              "</style>\n",
              "<table border=\"1\" class=\"dataframe\">\n",
              "  <thead>\n",
              "    <tr style=\"text-align: right;\">\n",
              "      <th></th>\n",
              "      <th>appid</th>\n",
              "      <th>name</th>\n",
              "      <th>release_date</th>\n",
              "      <th>english</th>\n",
              "      <th>developer</th>\n",
              "      <th>publisher</th>\n",
              "      <th>platforms</th>\n",
              "      <th>required_age</th>\n",
              "      <th>categories</th>\n",
              "      <th>genres</th>\n",
              "      <th>steamspy_tags</th>\n",
              "      <th>achievements</th>\n",
              "      <th>positive_ratings</th>\n",
              "      <th>negative_ratings</th>\n",
              "      <th>average_playtime</th>\n",
              "      <th>median_playtime</th>\n",
              "      <th>owners</th>\n",
              "      <th>price</th>\n",
              "    </tr>\n",
              "  </thead>\n",
              "  <tbody>\n",
              "    <tr>\n",
              "      <th>0</th>\n",
              "      <td>10</td>\n",
              "      <td>Counter-Strike</td>\n",
              "      <td>2000-11-01</td>\n",
              "      <td>1</td>\n",
              "      <td>Valve</td>\n",
              "      <td>Valve</td>\n",
              "      <td>windows;mac;linux</td>\n",
              "      <td>0</td>\n",
              "      <td>Multi-player;Online Multi-Player;Local Multi-P...</td>\n",
              "      <td>Action</td>\n",
              "      <td>Action;FPS;Multiplayer</td>\n",
              "      <td>0</td>\n",
              "      <td>124534</td>\n",
              "      <td>3339</td>\n",
              "      <td>17612</td>\n",
              "      <td>317</td>\n",
              "      <td>10000000-20000000</td>\n",
              "      <td>7.19</td>\n",
              "    </tr>\n",
              "    <tr>\n",
              "      <th>1</th>\n",
              "      <td>20</td>\n",
              "      <td>Team Fortress Classic</td>\n",
              "      <td>1999-04-01</td>\n",
              "      <td>1</td>\n",
              "      <td>Valve</td>\n",
              "      <td>Valve</td>\n",
              "      <td>windows;mac;linux</td>\n",
              "      <td>0</td>\n",
              "      <td>Multi-player;Online Multi-Player;Local Multi-P...</td>\n",
              "      <td>Action</td>\n",
              "      <td>Action;FPS;Multiplayer</td>\n",
              "      <td>0</td>\n",
              "      <td>3318</td>\n",
              "      <td>633</td>\n",
              "      <td>277</td>\n",
              "      <td>62</td>\n",
              "      <td>5000000-10000000</td>\n",
              "      <td>3.99</td>\n",
              "    </tr>\n",
              "    <tr>\n",
              "      <th>2</th>\n",
              "      <td>30</td>\n",
              "      <td>Day of Defeat</td>\n",
              "      <td>2003-05-01</td>\n",
              "      <td>1</td>\n",
              "      <td>Valve</td>\n",
              "      <td>Valve</td>\n",
              "      <td>windows;mac;linux</td>\n",
              "      <td>0</td>\n",
              "      <td>Multi-player;Valve Anti-Cheat enabled</td>\n",
              "      <td>Action</td>\n",
              "      <td>FPS;World War II;Multiplayer</td>\n",
              "      <td>0</td>\n",
              "      <td>3416</td>\n",
              "      <td>398</td>\n",
              "      <td>187</td>\n",
              "      <td>34</td>\n",
              "      <td>5000000-10000000</td>\n",
              "      <td>3.99</td>\n",
              "    </tr>\n",
              "    <tr>\n",
              "      <th>3</th>\n",
              "      <td>40</td>\n",
              "      <td>Deathmatch Classic</td>\n",
              "      <td>2001-06-01</td>\n",
              "      <td>1</td>\n",
              "      <td>Valve</td>\n",
              "      <td>Valve</td>\n",
              "      <td>windows;mac;linux</td>\n",
              "      <td>0</td>\n",
              "      <td>Multi-player;Online Multi-Player;Local Multi-P...</td>\n",
              "      <td>Action</td>\n",
              "      <td>Action;FPS;Multiplayer</td>\n",
              "      <td>0</td>\n",
              "      <td>1273</td>\n",
              "      <td>267</td>\n",
              "      <td>258</td>\n",
              "      <td>184</td>\n",
              "      <td>5000000-10000000</td>\n",
              "      <td>3.99</td>\n",
              "    </tr>\n",
              "    <tr>\n",
              "      <th>4</th>\n",
              "      <td>50</td>\n",
              "      <td>Half-Life: Opposing Force</td>\n",
              "      <td>1999-11-01</td>\n",
              "      <td>1</td>\n",
              "      <td>Gearbox Software</td>\n",
              "      <td>Valve</td>\n",
              "      <td>windows;mac;linux</td>\n",
              "      <td>0</td>\n",
              "      <td>Single-player;Multi-player;Valve Anti-Cheat en...</td>\n",
              "      <td>Action</td>\n",
              "      <td>FPS;Action;Sci-fi</td>\n",
              "      <td>0</td>\n",
              "      <td>5250</td>\n",
              "      <td>288</td>\n",
              "      <td>624</td>\n",
              "      <td>415</td>\n",
              "      <td>5000000-10000000</td>\n",
              "      <td>3.99</td>\n",
              "    </tr>\n",
              "  </tbody>\n",
              "</table>\n",
              "</div>"
            ],
            "text/plain": [
              "   appid                       name  ...             owners  price\n",
              "0     10             Counter-Strike  ...  10000000-20000000   7.19\n",
              "1     20      Team Fortress Classic  ...   5000000-10000000   3.99\n",
              "2     30              Day of Defeat  ...   5000000-10000000   3.99\n",
              "3     40         Deathmatch Classic  ...   5000000-10000000   3.99\n",
              "4     50  Half-Life: Opposing Force  ...   5000000-10000000   3.99\n",
              "\n",
              "[5 rows x 18 columns]"
            ]
          },
          "metadata": {
            "tags": []
          },
          "execution_count": 3
        }
      ]
    },
    {
      "cell_type": "markdown",
      "metadata": {
        "id": "1N36ahQRxAOK"
      },
      "source": [
        "Mostramos cuantas filas cuentan con valor 0 para la media y la mediana."
      ]
    },
    {
      "cell_type": "code",
      "metadata": {
        "colab": {
          "base_uri": "https://localhost:8080/"
        },
        "id": "-FuaOcoUwpAS",
        "outputId": "07afe1d0-58a8-4c01-8619-e4f91db13446"
      },
      "source": [
        "len(steam_games[steam_games.average_playtime == 0])"
      ],
      "execution_count": null,
      "outputs": [
        {
          "output_type": "execute_result",
          "data": {
            "text/plain": [
              "20905"
            ]
          },
          "metadata": {
            "tags": []
          },
          "execution_count": 4
        }
      ]
    },
    {
      "cell_type": "code",
      "metadata": {
        "colab": {
          "base_uri": "https://localhost:8080/"
        },
        "id": "Cuv6kUoLeDYr",
        "outputId": "58e99775-ed13-4497-e2dd-390423b08021"
      },
      "source": [
        "len(steam_games[steam_games.median_playtime == 0])"
      ],
      "execution_count": null,
      "outputs": [
        {
          "output_type": "execute_result",
          "data": {
            "text/plain": [
              "20905"
            ]
          },
          "metadata": {
            "tags": []
          },
          "execution_count": 5
        }
      ]
    },
    {
      "cell_type": "markdown",
      "metadata": {
        "id": "xrBQvcjwbJWU"
      },
      "source": [
        "Serán de estos 20905 registros, de los cuales intentaremos encontrar su media y mediana en el dataset de apoyo."
      ]
    },
    {
      "cell_type": "markdown",
      "metadata": {
        "id": "rA2M1T2bxIDG"
      },
      "source": [
        "## 3. Dataset de apoyo\r\n",
        "\r\n",
        "Este dataset cuenta con un registro de las horas jugadas por diversos usuarios a diferentes juegos, agrupando estas horas podremos calcular media y mediana respecto a estos datos."
      ]
    },
    {
      "cell_type": "code",
      "metadata": {
        "colab": {
          "base_uri": "https://localhost:8080/",
          "height": 224
        },
        "id": "Na3HuK9mxO5Z",
        "outputId": "afb189d1-8738-4f49-9aba-3cc5fb298c4e"
      },
      "source": [
        "print(\"Número de registros: \" + str(len(hours_played)))\r\n",
        "hours_played.head()"
      ],
      "execution_count": null,
      "outputs": [
        {
          "output_type": "stream",
          "text": [
            "Número de registros: 200000\n"
          ],
          "name": "stdout"
        },
        {
          "output_type": "execute_result",
          "data": {
            "text/html": [
              "<div>\n",
              "<style scoped>\n",
              "    .dataframe tbody tr th:only-of-type {\n",
              "        vertical-align: middle;\n",
              "    }\n",
              "\n",
              "    .dataframe tbody tr th {\n",
              "        vertical-align: top;\n",
              "    }\n",
              "\n",
              "    .dataframe thead th {\n",
              "        text-align: right;\n",
              "    }\n",
              "</style>\n",
              "<table border=\"1\" class=\"dataframe\">\n",
              "  <thead>\n",
              "    <tr style=\"text-align: right;\">\n",
              "      <th></th>\n",
              "      <th>usuario</th>\n",
              "      <th>nombre</th>\n",
              "      <th>tipo</th>\n",
              "      <th>horas</th>\n",
              "      <th>0</th>\n",
              "    </tr>\n",
              "  </thead>\n",
              "  <tbody>\n",
              "    <tr>\n",
              "      <th>0</th>\n",
              "      <td>151603712</td>\n",
              "      <td>The Elder Scrolls V Skyrim</td>\n",
              "      <td>purchase</td>\n",
              "      <td>1.0</td>\n",
              "      <td>0</td>\n",
              "    </tr>\n",
              "    <tr>\n",
              "      <th>1</th>\n",
              "      <td>151603712</td>\n",
              "      <td>The Elder Scrolls V Skyrim</td>\n",
              "      <td>play</td>\n",
              "      <td>273.0</td>\n",
              "      <td>0</td>\n",
              "    </tr>\n",
              "    <tr>\n",
              "      <th>2</th>\n",
              "      <td>151603712</td>\n",
              "      <td>Fallout 4</td>\n",
              "      <td>purchase</td>\n",
              "      <td>1.0</td>\n",
              "      <td>0</td>\n",
              "    </tr>\n",
              "    <tr>\n",
              "      <th>3</th>\n",
              "      <td>151603712</td>\n",
              "      <td>Fallout 4</td>\n",
              "      <td>play</td>\n",
              "      <td>87.0</td>\n",
              "      <td>0</td>\n",
              "    </tr>\n",
              "    <tr>\n",
              "      <th>4</th>\n",
              "      <td>151603712</td>\n",
              "      <td>Spore</td>\n",
              "      <td>purchase</td>\n",
              "      <td>1.0</td>\n",
              "      <td>0</td>\n",
              "    </tr>\n",
              "  </tbody>\n",
              "</table>\n",
              "</div>"
            ],
            "text/plain": [
              "     usuario                      nombre      tipo  horas  0\n",
              "0  151603712  The Elder Scrolls V Skyrim  purchase    1.0  0\n",
              "1  151603712  The Elder Scrolls V Skyrim      play  273.0  0\n",
              "2  151603712                   Fallout 4  purchase    1.0  0\n",
              "3  151603712                   Fallout 4      play   87.0  0\n",
              "4  151603712                       Spore  purchase    1.0  0"
            ]
          },
          "metadata": {
            "tags": []
          },
          "execution_count": 6
        }
      ]
    },
    {
      "cell_type": "markdown",
      "metadata": {
        "id": "zbk_x9OLxSql"
      },
      "source": [
        "### Limpieza del dataset\r\n",
        "\r\n",
        "Depuramos el dataset, eliminando columnas innecesarias y registros que no tienen un valor real."
      ]
    },
    {
      "cell_type": "code",
      "metadata": {
        "colab": {
          "base_uri": "https://localhost:8080/",
          "height": 424
        },
        "id": "eisMJGHQxZu2",
        "outputId": "60fbfb28-d996-4fa6-d6ae-4974f3ee554e"
      },
      "source": [
        "## Columnas que no aportan nada completas.\r\n",
        "hours_played.drop(\"0\", axis = 1, inplace = True) ## Columna vacía por defecto.\r\n",
        "hours_played.drop('usuario', axis = 1, inplace = True) \r\n",
        "\r\n",
        "## De la columna tipo, solo nos importan las filas con valor 'play'. El resto ('purchase') se refiere a compras del juego.\r\n",
        "hours_played = hours_played.loc[hours_played.tipo == 'play'] # Nos quedamos solo con estas filas.\r\n",
        "hours_played.drop('tipo', axis = 1, inplace = True) # Y ahora si podemos eliminar esta columna.\r\n",
        "\r\n",
        "hours_played"
      ],
      "execution_count": null,
      "outputs": [
        {
          "output_type": "execute_result",
          "data": {
            "text/html": [
              "<div>\n",
              "<style scoped>\n",
              "    .dataframe tbody tr th:only-of-type {\n",
              "        vertical-align: middle;\n",
              "    }\n",
              "\n",
              "    .dataframe tbody tr th {\n",
              "        vertical-align: top;\n",
              "    }\n",
              "\n",
              "    .dataframe thead th {\n",
              "        text-align: right;\n",
              "    }\n",
              "</style>\n",
              "<table border=\"1\" class=\"dataframe\">\n",
              "  <thead>\n",
              "    <tr style=\"text-align: right;\">\n",
              "      <th></th>\n",
              "      <th>nombre</th>\n",
              "      <th>horas</th>\n",
              "    </tr>\n",
              "  </thead>\n",
              "  <tbody>\n",
              "    <tr>\n",
              "      <th>1</th>\n",
              "      <td>The Elder Scrolls V Skyrim</td>\n",
              "      <td>273.0</td>\n",
              "    </tr>\n",
              "    <tr>\n",
              "      <th>3</th>\n",
              "      <td>Fallout 4</td>\n",
              "      <td>87.0</td>\n",
              "    </tr>\n",
              "    <tr>\n",
              "      <th>5</th>\n",
              "      <td>Spore</td>\n",
              "      <td>14.9</td>\n",
              "    </tr>\n",
              "    <tr>\n",
              "      <th>7</th>\n",
              "      <td>Fallout New Vegas</td>\n",
              "      <td>12.1</td>\n",
              "    </tr>\n",
              "    <tr>\n",
              "      <th>9</th>\n",
              "      <td>Left 4 Dead 2</td>\n",
              "      <td>8.9</td>\n",
              "    </tr>\n",
              "    <tr>\n",
              "      <th>...</th>\n",
              "      <td>...</td>\n",
              "      <td>...</td>\n",
              "    </tr>\n",
              "    <tr>\n",
              "      <th>199991</th>\n",
              "      <td>Fallen Earth</td>\n",
              "      <td>2.4</td>\n",
              "    </tr>\n",
              "    <tr>\n",
              "      <th>199993</th>\n",
              "      <td>Magic Duels</td>\n",
              "      <td>2.2</td>\n",
              "    </tr>\n",
              "    <tr>\n",
              "      <th>199995</th>\n",
              "      <td>Titan Souls</td>\n",
              "      <td>1.5</td>\n",
              "    </tr>\n",
              "    <tr>\n",
              "      <th>199997</th>\n",
              "      <td>Grand Theft Auto Vice City</td>\n",
              "      <td>1.5</td>\n",
              "    </tr>\n",
              "    <tr>\n",
              "      <th>199999</th>\n",
              "      <td>RUSH</td>\n",
              "      <td>1.4</td>\n",
              "    </tr>\n",
              "  </tbody>\n",
              "</table>\n",
              "<p>70489 rows × 2 columns</p>\n",
              "</div>"
            ],
            "text/plain": [
              "                            nombre  horas\n",
              "1       The Elder Scrolls V Skyrim  273.0\n",
              "3                        Fallout 4   87.0\n",
              "5                            Spore   14.9\n",
              "7                Fallout New Vegas   12.1\n",
              "9                    Left 4 Dead 2    8.9\n",
              "...                            ...    ...\n",
              "199991                Fallen Earth    2.4\n",
              "199993                 Magic Duels    2.2\n",
              "199995                 Titan Souls    1.5\n",
              "199997  Grand Theft Auto Vice City    1.5\n",
              "199999                        RUSH    1.4\n",
              "\n",
              "[70489 rows x 2 columns]"
            ]
          },
          "metadata": {
            "tags": []
          },
          "execution_count": 7
        }
      ]
    },
    {
      "cell_type": "markdown",
      "metadata": {
        "id": "VQe_eHHWyqPz"
      },
      "source": [
        "De los 200000 registros iniciales, tras eliminar los que eran de tipo purchase, nos quedan 70489 registros.\r\n",
        "\r\n",
        "Ahora, como en el dataset principal las variables que queremos rellenar son la media y la mediana, agrupamos los registros del dataset de apoyo por ambas."
      ]
    },
    {
      "cell_type": "markdown",
      "metadata": {
        "id": "wMCjqVQsfDEs"
      },
      "source": [
        "### Cálculo de la media"
      ]
    },
    {
      "cell_type": "code",
      "metadata": {
        "colab": {
          "base_uri": "https://localhost:8080/",
          "height": 455
        },
        "id": "-XKRqzhkyp3j",
        "outputId": "8c117242-17cf-47a4-fb0e-db761a49055b"
      },
      "source": [
        "# Agrupamos por media\r\n",
        "groupby_media = hours_played.groupby('nombre').mean()\r\n",
        "groupby_media"
      ],
      "execution_count": null,
      "outputs": [
        {
          "output_type": "execute_result",
          "data": {
            "text/html": [
              "<div>\n",
              "<style scoped>\n",
              "    .dataframe tbody tr th:only-of-type {\n",
              "        vertical-align: middle;\n",
              "    }\n",
              "\n",
              "    .dataframe tbody tr th {\n",
              "        vertical-align: top;\n",
              "    }\n",
              "\n",
              "    .dataframe thead th {\n",
              "        text-align: right;\n",
              "    }\n",
              "</style>\n",
              "<table border=\"1\" class=\"dataframe\">\n",
              "  <thead>\n",
              "    <tr style=\"text-align: right;\">\n",
              "      <th></th>\n",
              "      <th>horas</th>\n",
              "    </tr>\n",
              "    <tr>\n",
              "      <th>nombre</th>\n",
              "      <th></th>\n",
              "    </tr>\n",
              "  </thead>\n",
              "  <tbody>\n",
              "    <tr>\n",
              "      <th>007 Legends</th>\n",
              "      <td>0.700000</td>\n",
              "    </tr>\n",
              "    <tr>\n",
              "      <th>0RBITALIS</th>\n",
              "      <td>0.400000</td>\n",
              "    </tr>\n",
              "    <tr>\n",
              "      <th>1... 2... 3... KICK IT! (Drop That Beat Like an Ugly Baby)</th>\n",
              "      <td>4.000000</td>\n",
              "    </tr>\n",
              "    <tr>\n",
              "      <th>10 Second Ninja</th>\n",
              "      <td>2.950000</td>\n",
              "    </tr>\n",
              "    <tr>\n",
              "      <th>10,000,000</th>\n",
              "      <td>3.600000</td>\n",
              "    </tr>\n",
              "    <tr>\n",
              "      <th>...</th>\n",
              "      <td>...</td>\n",
              "    </tr>\n",
              "    <tr>\n",
              "      <th>rymdkapsel</th>\n",
              "      <td>1.100000</td>\n",
              "    </tr>\n",
              "    <tr>\n",
              "      <th>sZone-Online</th>\n",
              "      <td>0.977586</td>\n",
              "    </tr>\n",
              "    <tr>\n",
              "      <th>the static speaks my name</th>\n",
              "      <td>0.250000</td>\n",
              "    </tr>\n",
              "    <tr>\n",
              "      <th>theHunter</th>\n",
              "      <td>2.493548</td>\n",
              "    </tr>\n",
              "    <tr>\n",
              "      <th>theHunter Primal</th>\n",
              "      <td>21.475000</td>\n",
              "    </tr>\n",
              "  </tbody>\n",
              "</table>\n",
              "<p>3600 rows × 1 columns</p>\n",
              "</div>"
            ],
            "text/plain": [
              "                                                        horas\n",
              "nombre                                                       \n",
              "007 Legends                                          0.700000\n",
              "0RBITALIS                                            0.400000\n",
              "1... 2... 3... KICK IT! (Drop That Beat Like an...   4.000000\n",
              "10 Second Ninja                                      2.950000\n",
              "10,000,000                                           3.600000\n",
              "...                                                       ...\n",
              "rymdkapsel                                           1.100000\n",
              "sZone-Online                                         0.977586\n",
              "the static speaks my name                            0.250000\n",
              "theHunter                                            2.493548\n",
              "theHunter Primal                                    21.475000\n",
              "\n",
              "[3600 rows x 1 columns]"
            ]
          },
          "metadata": {
            "tags": []
          },
          "execution_count": 8
        }
      ]
    },
    {
      "cell_type": "markdown",
      "metadata": {
        "id": "XyN1IHiHfIgA"
      },
      "source": [
        "### Cálculo de la mediana"
      ]
    },
    {
      "cell_type": "code",
      "metadata": {
        "colab": {
          "base_uri": "https://localhost:8080/",
          "height": 455
        },
        "id": "ND6fG99lzO8e",
        "outputId": "befa01fa-8719-47da-82f0-b64087fe9fe0"
      },
      "source": [
        "# Agrupamos por mediana\r\n",
        "groupby_mediana = hours_played.groupby('nombre').median()\r\n",
        "groupby_mediana"
      ],
      "execution_count": null,
      "outputs": [
        {
          "output_type": "execute_result",
          "data": {
            "text/html": [
              "<div>\n",
              "<style scoped>\n",
              "    .dataframe tbody tr th:only-of-type {\n",
              "        vertical-align: middle;\n",
              "    }\n",
              "\n",
              "    .dataframe tbody tr th {\n",
              "        vertical-align: top;\n",
              "    }\n",
              "\n",
              "    .dataframe thead th {\n",
              "        text-align: right;\n",
              "    }\n",
              "</style>\n",
              "<table border=\"1\" class=\"dataframe\">\n",
              "  <thead>\n",
              "    <tr style=\"text-align: right;\">\n",
              "      <th></th>\n",
              "      <th>horas</th>\n",
              "    </tr>\n",
              "    <tr>\n",
              "      <th>nombre</th>\n",
              "      <th></th>\n",
              "    </tr>\n",
              "  </thead>\n",
              "  <tbody>\n",
              "    <tr>\n",
              "      <th>007 Legends</th>\n",
              "      <td>0.70</td>\n",
              "    </tr>\n",
              "    <tr>\n",
              "      <th>0RBITALIS</th>\n",
              "      <td>0.30</td>\n",
              "    </tr>\n",
              "    <tr>\n",
              "      <th>1... 2... 3... KICK IT! (Drop That Beat Like an Ugly Baby)</th>\n",
              "      <td>2.40</td>\n",
              "    </tr>\n",
              "    <tr>\n",
              "      <th>10 Second Ninja</th>\n",
              "      <td>2.95</td>\n",
              "    </tr>\n",
              "    <tr>\n",
              "      <th>10,000,000</th>\n",
              "      <td>3.60</td>\n",
              "    </tr>\n",
              "    <tr>\n",
              "      <th>...</th>\n",
              "      <td>...</td>\n",
              "    </tr>\n",
              "    <tr>\n",
              "      <th>rymdkapsel</th>\n",
              "      <td>1.10</td>\n",
              "    </tr>\n",
              "    <tr>\n",
              "      <th>sZone-Online</th>\n",
              "      <td>0.60</td>\n",
              "    </tr>\n",
              "    <tr>\n",
              "      <th>the static speaks my name</th>\n",
              "      <td>0.25</td>\n",
              "    </tr>\n",
              "    <tr>\n",
              "      <th>theHunter</th>\n",
              "      <td>0.80</td>\n",
              "    </tr>\n",
              "    <tr>\n",
              "      <th>theHunter Primal</th>\n",
              "      <td>7.00</td>\n",
              "    </tr>\n",
              "  </tbody>\n",
              "</table>\n",
              "<p>3600 rows × 1 columns</p>\n",
              "</div>"
            ],
            "text/plain": [
              "                                                    horas\n",
              "nombre                                                   \n",
              "007 Legends                                          0.70\n",
              "0RBITALIS                                            0.30\n",
              "1... 2... 3... KICK IT! (Drop That Beat Like an...   2.40\n",
              "10 Second Ninja                                      2.95\n",
              "10,000,000                                           3.60\n",
              "...                                                   ...\n",
              "rymdkapsel                                           1.10\n",
              "sZone-Online                                         0.60\n",
              "the static speaks my name                            0.25\n",
              "theHunter                                            0.80\n",
              "theHunter Primal                                     7.00\n",
              "\n",
              "[3600 rows x 1 columns]"
            ]
          },
          "metadata": {
            "tags": []
          },
          "execution_count": 9
        }
      ]
    },
    {
      "cell_type": "markdown",
      "metadata": {
        "id": "lFGKmnVpcezh"
      },
      "source": [
        "### Cálculo de la desviación típica\r\n",
        "\r\n",
        "Además, también vamos a calcular la desviación típica, que nos ofrecerá información sobre la dispersión media de cada juego.\r\n",
        "\r\n",
        "Los grados de libertad se establecen a 0, ya que en el caso de que solo haya un registro por juego, el valor que aplicará será 0, en vez de dejar el valor vacío (NaN)."
      ]
    },
    {
      "cell_type": "code",
      "metadata": {
        "colab": {
          "base_uri": "https://localhost:8080/",
          "height": 455
        },
        "id": "xq7eR5Rxbjbp",
        "outputId": "395c67f4-9d93-4d2a-efc9-625815a42049"
      },
      "source": [
        "# Agrupamos por desviación típica\r\n",
        "groupby_std = hours_played.groupby('nombre').std(ddof=0)\r\n",
        "groupby_std"
      ],
      "execution_count": null,
      "outputs": [
        {
          "output_type": "execute_result",
          "data": {
            "text/html": [
              "<div>\n",
              "<style scoped>\n",
              "    .dataframe tbody tr th:only-of-type {\n",
              "        vertical-align: middle;\n",
              "    }\n",
              "\n",
              "    .dataframe tbody tr th {\n",
              "        vertical-align: top;\n",
              "    }\n",
              "\n",
              "    .dataframe thead th {\n",
              "        text-align: right;\n",
              "    }\n",
              "</style>\n",
              "<table border=\"1\" class=\"dataframe\">\n",
              "  <thead>\n",
              "    <tr style=\"text-align: right;\">\n",
              "      <th></th>\n",
              "      <th>horas</th>\n",
              "    </tr>\n",
              "    <tr>\n",
              "      <th>nombre</th>\n",
              "      <th></th>\n",
              "    </tr>\n",
              "  </thead>\n",
              "  <tbody>\n",
              "    <tr>\n",
              "      <th>007 Legends</th>\n",
              "      <td>0.000000</td>\n",
              "    </tr>\n",
              "    <tr>\n",
              "      <th>0RBITALIS</th>\n",
              "      <td>0.141421</td>\n",
              "    </tr>\n",
              "    <tr>\n",
              "      <th>1... 2... 3... KICK IT! (Drop That Beat Like an Ugly Baby)</th>\n",
              "      <td>3.941573</td>\n",
              "    </tr>\n",
              "    <tr>\n",
              "      <th>10 Second Ninja</th>\n",
              "      <td>2.450000</td>\n",
              "    </tr>\n",
              "    <tr>\n",
              "      <th>10,000,000</th>\n",
              "      <td>0.000000</td>\n",
              "    </tr>\n",
              "    <tr>\n",
              "      <th>...</th>\n",
              "      <td>...</td>\n",
              "    </tr>\n",
              "    <tr>\n",
              "      <th>rymdkapsel</th>\n",
              "      <td>0.000000</td>\n",
              "    </tr>\n",
              "    <tr>\n",
              "      <th>sZone-Online</th>\n",
              "      <td>1.253690</td>\n",
              "    </tr>\n",
              "    <tr>\n",
              "      <th>the static speaks my name</th>\n",
              "      <td>0.122474</td>\n",
              "    </tr>\n",
              "    <tr>\n",
              "      <th>theHunter</th>\n",
              "      <td>9.026107</td>\n",
              "    </tr>\n",
              "    <tr>\n",
              "      <th>theHunter Primal</th>\n",
              "      <td>28.751641</td>\n",
              "    </tr>\n",
              "  </tbody>\n",
              "</table>\n",
              "<p>3600 rows × 1 columns</p>\n",
              "</div>"
            ],
            "text/plain": [
              "                                                        horas\n",
              "nombre                                                       \n",
              "007 Legends                                          0.000000\n",
              "0RBITALIS                                            0.141421\n",
              "1... 2... 3... KICK IT! (Drop That Beat Like an...   3.941573\n",
              "10 Second Ninja                                      2.450000\n",
              "10,000,000                                           0.000000\n",
              "...                                                       ...\n",
              "rymdkapsel                                           0.000000\n",
              "sZone-Online                                         1.253690\n",
              "the static speaks my name                            0.122474\n",
              "theHunter                                            9.026107\n",
              "theHunter Primal                                    28.751641\n",
              "\n",
              "[3600 rows x 1 columns]"
            ]
          },
          "metadata": {
            "tags": []
          },
          "execution_count": 10
        }
      ]
    },
    {
      "cell_type": "markdown",
      "metadata": {
        "id": "VtLkVPNKzrdT"
      },
      "source": [
        "## 4. Comparación de ambos datasets\r\n",
        "\r\n",
        "Al no contar en este dataset de apoyo con un id que le relacione de forma directa con el dataset principal, intentaremos identificar los juegos por el nombre.\r\n",
        " \r\n",
        "Se va a comprobar dos cosas, la primera, ver cuantos juegos del dataset de apoyo coinciden con los del dataset principal. Y segundo, cuantos de los que coinciden, tienen valor 0 en media y mediana, y por tanto, se pueden rellenar con los datos del dataset de apoyo.\r\n",
        "\r\n",
        "Además de todos los juegos que coincidan, independientemente del valor de media y mediana, se le aportará el valor de su desviación típica, ya que esta columna no está en el dataset principal."
      ]
    },
    {
      "cell_type": "code",
      "metadata": {
        "colab": {
          "base_uri": "https://localhost:8080/"
        },
        "id": "OvKDJ9ZE0F5i",
        "outputId": "254e81ff-0de3-4dd1-c0a5-dd1353bde92b"
      },
      "source": [
        "contador = 0\r\n",
        "contador2 = 0\r\n",
        "contador3 = 0\r\n",
        "for i in groupby_media.index.values:\r\n",
        "  for y in steam_games.index:\r\n",
        "    if i == steam_games[\"name\"][y]:\r\n",
        "      contador = contador + 1 ## Existen en el dataset principal\r\n",
        "      if steam_games[\"average_playtime\"][y] == 0:\r\n",
        "        contador2 = contador2 + 1\r\n",
        "      if steam_games[\"median_playtime\"][y] == 0:\r\n",
        "        contador3 = contador3 + 1\r\n",
        "\r\n",
        "print(\"Juegos que coinciden con los del dataset principal: \" + str(contador)) # 1714 son los juegos que coinciden en nombre con los del dataset. \r\n",
        "# Pero, ¿cuáles de esos tienen valor 0 en el dataset principal? \r\n",
        "print(\"De los juegos que coinciden, tiene valor 0 en la media en el dataset principal: \" + str(contador2))\r\n",
        "print(\"De los juegos que coinciden, tiene valor 0 en la mediana en el dataset principal: \" + str(contador3))"
      ],
      "execution_count": null,
      "outputs": [
        {
          "output_type": "stream",
          "text": [
            "Juegos que coinciden con los del dataset principal: 1724\n",
            "De los juegos que coinciden, tiene valor 0 en la media en el dataset principal: 416\n",
            "De los juegos que coinciden, tiene valor 0 en la mediana en el dataset principal: 416\n"
          ],
          "name": "stdout"
        }
      ]
    },
    {
      "cell_type": "markdown",
      "metadata": {
        "id": "VB890S1Z0NzQ"
      },
      "source": [
        "Se procede a rellenar los juegos que coinciden entre ambos datasets y que en el principal el valor tiene 0. \r\n",
        "\r\n",
        "Para ello, creamos un dataset nuevo, que contenga solo las filas que serán usadas posteriormente en el dataset principal."
      ]
    },
    {
      "cell_type": "code",
      "metadata": {
        "id": "hf5cn5DBaQnQ"
      },
      "source": [
        "df_auxiliar = pd.DataFrame(columns=['appid','average_playtime','median_playtime','standard_deviation'])\r\n",
        "df_auxiliar['appid'] = steam_games['appid']"
      ],
      "execution_count": null,
      "outputs": []
    },
    {
      "cell_type": "markdown",
      "metadata": {
        "id": "k4fW16RMhh75"
      },
      "source": [
        "\r\n",
        "\r\n",
        "### Columna media\r\n",
        "\r\n"
      ]
    },
    {
      "cell_type": "code",
      "metadata": {
        "id": "pRcSE9y80VT7",
        "colab": {
          "base_uri": "https://localhost:8080/"
        },
        "outputId": "1e71ab6c-5e9c-42f0-ee77-013c462258b7"
      },
      "source": [
        "listaMedia = []\r\n",
        "contador1 = 0 # Valor no válido en dataset principal y encontrado en el dataset de apoyo\r\n",
        "contador2 = 0 # Valor no válido en dataset principal y no encontrado en el dataset de apoyo\r\n",
        "contador3 = 0 # Valor válido en dataset principal\r\n",
        "\r\n",
        "for i in steam_games.index:\r\n",
        "  if steam_games[\"average_playtime\"][i] == 0: # Si el juego no tiene un valor válido de la media en el dataset principal.\r\n",
        "    encontrado = False # Inicializamos en cada iteración a false \r\n",
        "    for y in groupby_media.index.values:\r\n",
        "        if y == steam_games[\"name\"][i]: # Si podemos encontrar el juego en el dataset de apoyo, guardamos el dato suyo.\r\n",
        "          listaMedia.append(groupby_media.horas[y])\r\n",
        "          contador1 = contador1 + 1\r\n",
        "          encontrado = True\r\n",
        "          continue # Si lo encontramos, pasamos a la siguiente iteración del bucle for.\r\n",
        "\r\n",
        "    if (encontrado == False): # Si no podemos encontrar el juego en el dataset de apoyo, lo dejamos como estaba en el dataset principal.\r\n",
        "          listaMedia.append(steam_games[\"average_playtime\"][i])\r\n",
        "          contador2 = contador2 + 1\r\n",
        "  else: # Si el juego tiene un valor válido para la media en el dataset principal, lo guardamos.\r\n",
        "    listaMedia.append(steam_games[\"average_playtime\"][i])\r\n",
        "    contador3 = contador3 + 1\r\n",
        "\r\n",
        "print(\"Juegos con valor no válido en el dataset principal y encontrado en el dataset de apoyo: \" + str(contador1))\r\n",
        "print(\"Juegos con valor no válido en el dataset principal y no encontrado en el dataset de apoyo: \" + str(contador2))\r\n",
        "print(\"Juegos con valor válido en el dataset principal: \" + str(contador3)) \r\n",
        "df_auxiliar['average_playtime'] = listaMedia ## Creación nueva columna"
      ],
      "execution_count": null,
      "outputs": [
        {
          "output_type": "stream",
          "text": [
            "Juegos con valor no válido en el dataset principal y encontrado en el dataset de apoyo: 416\n",
            "Juegos con valor no válido en el dataset principal y no encontrado en el dataset de apoyo: 20489\n",
            "Juegos con valor válido en el dataset principal: 6170\n"
          ],
          "name": "stdout"
        }
      ]
    },
    {
      "cell_type": "markdown",
      "metadata": {
        "id": "2bLuq2pfhlN_"
      },
      "source": [
        "### Columna mediana"
      ]
    },
    {
      "cell_type": "code",
      "metadata": {
        "id": "dvglbxKD0ZYc",
        "colab": {
          "base_uri": "https://localhost:8080/"
        },
        "outputId": "8d43063a-be25-4702-c259-782209722b29"
      },
      "source": [
        "listaMediana = []\r\n",
        "contador1 = 0 # Valor no válido en dataset principal y encontado en el dataset de apoyo\r\n",
        "contador2 = 0 # Valor no válido en dataset principal y no encontado en el dataset de apoyo\r\n",
        "contador3 = 0 # Valor válido en dataset principal\r\n",
        "\r\n",
        "for i in steam_games.index:\r\n",
        "  if steam_games[\"median_playtime\"][i] == 0: # Si el juego no tiene un valor válido de la media en el dataset principal.\r\n",
        "    encontrado = False # Inicializamos en cada iteración a false \r\n",
        "    for y in groupby_mediana.index.values:\r\n",
        "        if y == steam_games[\"name\"][i]: # Si podemos encontrar el juego en el dataset de apoyo, guardamos el dato suyo.\r\n",
        "          listaMediana.append(groupby_mediana.horas[y])\r\n",
        "          contador1 = contador1 + 1\r\n",
        "          encontrado = True\r\n",
        "          continue # Si lo encontramos, pasamos a la siguiente iteración del bucle for.\r\n",
        "\r\n",
        "    if (encontrado == False): # Si no podemos encontrar el juego en el dataset de apoyo, lo dejamos como estaba en el dataset principal.\r\n",
        "          listaMediana.append(steam_games[\"median_playtime\"][i])\r\n",
        "          contador2 = contador2 + 1        \r\n",
        "  else: # Si el juego tiene un valor válido para la media en el dataset principal, lo guardamos.\r\n",
        "    listaMediana.append(steam_games[\"median_playtime\"][i])\r\n",
        "    contador3 = contador3 + 1\r\n",
        "\r\n",
        "    \r\n",
        "print(\"Juegos con valor no válido en el dataset principal y encontrado en el dataset de apoyo: \" + str(contador1))\r\n",
        "print(\"Juegos con valor no válido en el dataset principal y no encontrado en el dataset de apoyo: \" + str(contador2))\r\n",
        "print(\"Juegos con valor válido en el dataset principal: \" + str(contador3))\r\n",
        "df_auxiliar['median_playtime'] = listaMediana ## Creación nueva columna"
      ],
      "execution_count": null,
      "outputs": [
        {
          "output_type": "stream",
          "text": [
            "Juegos con valor no válido en el dataset principal y encontrado en el dataset de apoyo: 416\n",
            "Juegos con valor no válido en el dataset principal y no encontrado en el dataset de apoyo: 20489\n",
            "Juegos con valor válido en el dataset principal: 6170\n"
          ],
          "name": "stdout"
        }
      ]
    },
    {
      "cell_type": "markdown",
      "metadata": {
        "id": "BivPNSSOhndN"
      },
      "source": [
        "### Columna desviación tipica\r\n",
        "La diferencia a la hora de calcular los valores de esta columna respecto a la media y la mediana, es que es un valor que no está en el dataset principal, y por tanto de todos los juegos que se identifiquen por nombre, se calculará su desviación típica."
      ]
    },
    {
      "cell_type": "code",
      "metadata": {
        "colab": {
          "base_uri": "https://localhost:8080/"
        },
        "id": "C9ameks1hEsP",
        "outputId": "4f1766a2-78ac-4de6-c425-ccdbbd1719d4"
      },
      "source": [
        "listaDesvTipica = []\r\n",
        "contador = 0\r\n",
        "\r\n",
        "for i in steam_games.index:\r\n",
        "  encontrado = False\r\n",
        "  for y in groupby_std.index.values:\r\n",
        "    if y == steam_games[\"name\"][i]:\r\n",
        "      listaDesvTipica.append(groupby_std.horas[y])\r\n",
        "      contador = contador + 1\r\n",
        "      encontrado = True\r\n",
        "      continue\r\n",
        "      \r\n",
        "  if encontrado == False:\r\n",
        "      listaDesvTipica.append(0)\r\n",
        "\r\n",
        "print(\"Juegos con desviación típica calculada: \" + str(contador))\r\n",
        "df_auxiliar['standard_deviation'] = listaDesvTipica ## Creación nueva columna"
      ],
      "execution_count": null,
      "outputs": [
        {
          "output_type": "stream",
          "text": [
            "Juegos con desviación típica calculada: 1724\n"
          ],
          "name": "stdout"
        }
      ]
    },
    {
      "cell_type": "markdown",
      "metadata": {
        "id": "Kn_HZSgHP2yg"
      },
      "source": [
        "Ahora, ya tenemos los valores de media, mediana y desviación típica de todos los videojuegos del dataset principal que se han podido conseguir gracias al dataset de apoyo."
      ]
    },
    {
      "cell_type": "code",
      "metadata": {
        "id": "KO24K6O4_YCS",
        "colab": {
          "base_uri": "https://localhost:8080/",
          "height": 424
        },
        "outputId": "866dd8d8-0b4e-4004-afc3-c7729780d775"
      },
      "source": [
        "df_auxiliar = df_auxiliar.round({\"standard_deviation\" : 2})  # Redondeo a 2 decimales\r\n",
        "df_auxiliar"
      ],
      "execution_count": null,
      "outputs": [
        {
          "output_type": "execute_result",
          "data": {
            "text/html": [
              "<div>\n",
              "<style scoped>\n",
              "    .dataframe tbody tr th:only-of-type {\n",
              "        vertical-align: middle;\n",
              "    }\n",
              "\n",
              "    .dataframe tbody tr th {\n",
              "        vertical-align: top;\n",
              "    }\n",
              "\n",
              "    .dataframe thead th {\n",
              "        text-align: right;\n",
              "    }\n",
              "</style>\n",
              "<table border=\"1\" class=\"dataframe\">\n",
              "  <thead>\n",
              "    <tr style=\"text-align: right;\">\n",
              "      <th></th>\n",
              "      <th>appid</th>\n",
              "      <th>average_playtime</th>\n",
              "      <th>median_playtime</th>\n",
              "      <th>standard_deviation</th>\n",
              "    </tr>\n",
              "  </thead>\n",
              "  <tbody>\n",
              "    <tr>\n",
              "      <th>0</th>\n",
              "      <td>10</td>\n",
              "      <td>17612.0</td>\n",
              "      <td>317.0</td>\n",
              "      <td>617.95</td>\n",
              "    </tr>\n",
              "    <tr>\n",
              "      <th>1</th>\n",
              "      <td>20</td>\n",
              "      <td>277.0</td>\n",
              "      <td>62.0</td>\n",
              "      <td>1.13</td>\n",
              "    </tr>\n",
              "    <tr>\n",
              "      <th>2</th>\n",
              "      <td>30</td>\n",
              "      <td>187.0</td>\n",
              "      <td>34.0</td>\n",
              "      <td>45.92</td>\n",
              "    </tr>\n",
              "    <tr>\n",
              "      <th>3</th>\n",
              "      <td>40</td>\n",
              "      <td>258.0</td>\n",
              "      <td>184.0</td>\n",
              "      <td>1.63</td>\n",
              "    </tr>\n",
              "    <tr>\n",
              "      <th>4</th>\n",
              "      <td>50</td>\n",
              "      <td>624.0</td>\n",
              "      <td>415.0</td>\n",
              "      <td>0.00</td>\n",
              "    </tr>\n",
              "    <tr>\n",
              "      <th>...</th>\n",
              "      <td>...</td>\n",
              "      <td>...</td>\n",
              "      <td>...</td>\n",
              "      <td>...</td>\n",
              "    </tr>\n",
              "    <tr>\n",
              "      <th>27070</th>\n",
              "      <td>1065230</td>\n",
              "      <td>0.0</td>\n",
              "      <td>0.0</td>\n",
              "      <td>0.00</td>\n",
              "    </tr>\n",
              "    <tr>\n",
              "      <th>27071</th>\n",
              "      <td>1065570</td>\n",
              "      <td>0.0</td>\n",
              "      <td>0.0</td>\n",
              "      <td>0.00</td>\n",
              "    </tr>\n",
              "    <tr>\n",
              "      <th>27072</th>\n",
              "      <td>1065650</td>\n",
              "      <td>0.0</td>\n",
              "      <td>0.0</td>\n",
              "      <td>0.00</td>\n",
              "    </tr>\n",
              "    <tr>\n",
              "      <th>27073</th>\n",
              "      <td>1066700</td>\n",
              "      <td>0.0</td>\n",
              "      <td>0.0</td>\n",
              "      <td>0.00</td>\n",
              "    </tr>\n",
              "    <tr>\n",
              "      <th>27074</th>\n",
              "      <td>1069460</td>\n",
              "      <td>0.0</td>\n",
              "      <td>0.0</td>\n",
              "      <td>0.00</td>\n",
              "    </tr>\n",
              "  </tbody>\n",
              "</table>\n",
              "<p>27075 rows × 4 columns</p>\n",
              "</div>"
            ],
            "text/plain": [
              "         appid  average_playtime  median_playtime  standard_deviation\n",
              "0           10           17612.0            317.0              617.95\n",
              "1           20             277.0             62.0                1.13\n",
              "2           30             187.0             34.0               45.92\n",
              "3           40             258.0            184.0                1.63\n",
              "4           50             624.0            415.0                0.00\n",
              "...        ...               ...              ...                 ...\n",
              "27070  1065230               0.0              0.0                0.00\n",
              "27071  1065570               0.0              0.0                0.00\n",
              "27072  1065650               0.0              0.0                0.00\n",
              "27073  1066700               0.0              0.0                0.00\n",
              "27074  1069460               0.0              0.0                0.00\n",
              "\n",
              "[27075 rows x 4 columns]"
            ]
          },
          "metadata": {
            "tags": []
          },
          "execution_count": 15
        }
      ]
    },
    {
      "cell_type": "markdown",
      "metadata": {
        "id": "ZPO3ga_tgxRE"
      },
      "source": [
        "### Comprobación\r\n",
        "\r\n",
        "Ahora, brevemente se comprueba como un videojuego, que no tiene datos en el dataset principal sobre la media y la mediana, ahora si cuenta con estos datos en nuestro dataset auxiliar."
      ]
    },
    {
      "cell_type": "code",
      "metadata": {
        "id": "fod5Vgsd0iTv",
        "colab": {
          "base_uri": "https://localhost:8080/"
        },
        "outputId": "d0716fe2-77a5-42a9-a83c-0d371bc147d2"
      },
      "source": [
        "steam_games.iloc[26]"
      ],
      "execution_count": null,
      "outputs": [
        {
          "output_type": "execute_result",
          "data": {
            "text/plain": [
              "appid                                     1002\n",
              "name                          Rag Doll Kung Fu\n",
              "release_date                        2005-10-12\n",
              "english                                      1\n",
              "developer                          Mark Healey\n",
              "publisher                          Mark Healey\n",
              "platforms                              windows\n",
              "required_age                                 0\n",
              "categories          Single-player;Multi-player\n",
              "genres                                   Indie\n",
              "steamspy_tags       Indie;Fighting;Multiplayer\n",
              "achievements                                 0\n",
              "positive_ratings                            40\n",
              "negative_ratings                            17\n",
              "average_playtime                             0\n",
              "median_playtime                              0\n",
              "owners                             20000-50000\n",
              "price                                     5.99\n",
              "Name: 26, dtype: object"
            ]
          },
          "metadata": {
            "tags": []
          },
          "execution_count": 16
        }
      ]
    },
    {
      "cell_type": "code",
      "metadata": {
        "colab": {
          "base_uri": "https://localhost:8080/"
        },
        "id": "r9ew1oIsb7n5",
        "outputId": "a57d0abe-8825-4042-d665-2ee4169ca3de"
      },
      "source": [
        "df_auxiliar.iloc[26]"
      ],
      "execution_count": null,
      "outputs": [
        {
          "output_type": "execute_result",
          "data": {
            "text/plain": [
              "appid                 1002.000\n",
              "average_playtime         0.475\n",
              "median_playtime          0.350\n",
              "standard_deviation       0.390\n",
              "Name: 26, dtype: float64"
            ]
          },
          "metadata": {
            "tags": []
          },
          "execution_count": 17
        }
      ]
    },
    {
      "cell_type": "markdown",
      "metadata": {
        "id": "JOYl_I2uubd2"
      },
      "source": [
        "Comprobamos que ningún valor del dataset creado este vacío"
      ]
    },
    {
      "cell_type": "code",
      "metadata": {
        "id": "ZMpCFlXYuemM",
        "colab": {
          "base_uri": "https://localhost:8080/"
        },
        "outputId": "35a67fe8-acdf-4dbd-8341-da9f986d5dee"
      },
      "source": [
        "pd.isnull(df_auxiliar).any()"
      ],
      "execution_count": null,
      "outputs": [
        {
          "output_type": "execute_result",
          "data": {
            "text/plain": [
              "appid                 False\n",
              "average_playtime      False\n",
              "median_playtime       False\n",
              "standard_deviation    False\n",
              "dtype: bool"
            ]
          },
          "metadata": {
            "tags": []
          },
          "execution_count": 18
        }
      ]
    },
    {
      "cell_type": "markdown",
      "metadata": {
        "id": "Cc2tCQ2cgkAC"
      },
      "source": [
        "## 5. Exportando los datos \r\n",
        "\r\n",
        "Mediante la siguiente función, podremos guardar y exportar los datos calculados en formato CSV, de tal forma, que se puedan cargar en otros cuadernos para seguir con el desarrollo de este estudio."
      ]
    },
    {
      "cell_type": "code",
      "metadata": {
        "id": "Hku6Wzg7hVHm"
      },
      "source": [
        "df_auxiliar.to_csv('auxiliar3.csv')"
      ],
      "execution_count": null,
      "outputs": []
    }
  ]
}