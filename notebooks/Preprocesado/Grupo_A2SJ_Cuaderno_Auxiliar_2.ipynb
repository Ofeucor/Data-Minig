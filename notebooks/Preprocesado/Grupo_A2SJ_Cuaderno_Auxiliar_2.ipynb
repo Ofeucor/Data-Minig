{
  "nbformat": 4,
  "nbformat_minor": 0,
  "metadata": {
    "colab": {
      "name": "Grupo A2SJ: Cuaderno Auxiliar 2",
      "provenance": [],
      "collapsed_sections": [],
      "toc_visible": true
    },
    "kernelspec": {
      "display_name": "Python 3",
      "name": "python3"
    }
  },
  "cells": [
    {
      "cell_type": "markdown",
      "metadata": {
        "id": "Ln05jg8FzJKd"
      },
      "source": [
        "##Datasets Auxiliares"
      ]
    },
    {
      "cell_type": "code",
      "metadata": {
        "colab": {
          "base_uri": "https://localhost:8080/"
        },
        "id": "1Jkfekhql_5Q",
        "outputId": "9f304782-a420-4580-9cad-d05b6992cf2d"
      },
      "source": [
        "pip install googletrans==3.1.0a0"
      ],
      "execution_count": null,
      "outputs": [
        {
          "output_type": "stream",
          "text": [
            "Requirement already satisfied: googletrans==3.1.0a0 in /usr/local/lib/python3.6/dist-packages (3.1.0a0)\n",
            "Requirement already satisfied: httpx==0.13.3 in /usr/local/lib/python3.6/dist-packages (from googletrans==3.1.0a0) (0.13.3)\n",
            "Requirement already satisfied: chardet==3.* in /usr/local/lib/python3.6/dist-packages (from httpx==0.13.3->googletrans==3.1.0a0) (3.0.4)\n",
            "Requirement already satisfied: hstspreload in /usr/local/lib/python3.6/dist-packages (from httpx==0.13.3->googletrans==3.1.0a0) (2020.11.21)\n",
            "Requirement already satisfied: httpcore==0.9.* in /usr/local/lib/python3.6/dist-packages (from httpx==0.13.3->googletrans==3.1.0a0) (0.9.1)\n",
            "Requirement already satisfied: certifi in /usr/local/lib/python3.6/dist-packages (from httpx==0.13.3->googletrans==3.1.0a0) (2020.12.5)\n",
            "Requirement already satisfied: rfc3986<2,>=1.3 in /usr/local/lib/python3.6/dist-packages (from httpx==0.13.3->googletrans==3.1.0a0) (1.4.0)\n",
            "Requirement already satisfied: idna==2.* in /usr/local/lib/python3.6/dist-packages (from httpx==0.13.3->googletrans==3.1.0a0) (2.10)\n",
            "Requirement already satisfied: sniffio in /usr/local/lib/python3.6/dist-packages (from httpx==0.13.3->googletrans==3.1.0a0) (1.2.0)\n",
            "Requirement already satisfied: h11<0.10,>=0.8 in /usr/local/lib/python3.6/dist-packages (from httpcore==0.9.*->httpx==0.13.3->googletrans==3.1.0a0) (0.9.0)\n",
            "Requirement already satisfied: h2==3.* in /usr/local/lib/python3.6/dist-packages (from httpcore==0.9.*->httpx==0.13.3->googletrans==3.1.0a0) (3.2.0)\n",
            "Requirement already satisfied: contextvars>=2.1; python_version < \"3.7\" in /usr/local/lib/python3.6/dist-packages (from sniffio->httpx==0.13.3->googletrans==3.1.0a0) (2.4)\n",
            "Requirement already satisfied: hpack<4,>=3.0 in /usr/local/lib/python3.6/dist-packages (from h2==3.*->httpcore==0.9.*->httpx==0.13.3->googletrans==3.1.0a0) (3.0.0)\n",
            "Requirement already satisfied: hyperframe<6,>=5.2.0 in /usr/local/lib/python3.6/dist-packages (from h2==3.*->httpcore==0.9.*->httpx==0.13.3->googletrans==3.1.0a0) (5.2.0)\n",
            "Requirement already satisfied: immutables>=0.9 in /usr/local/lib/python3.6/dist-packages (from contextvars>=2.1; python_version < \"3.7\"->sniffio->httpx==0.13.3->googletrans==3.1.0a0) (0.14)\n"
          ],
          "name": "stdout"
        }
      ]
    },
    {
      "cell_type": "markdown",
      "metadata": {
        "id": "JhZiup3KzZD6"
      },
      "source": [
        "## 0. Librerías"
      ]
    },
    {
      "cell_type": "code",
      "metadata": {
        "id": "Grip1CQd-zqN"
      },
      "source": [
        "# Data load and manipulation\n",
        "from google.colab import files\n",
        "import io\n",
        " \n",
        "# DataFrame librery\n",
        "import pandas as pd\n",
        " \n",
        "# Visualization \n",
        "import matplotlib.pyplot as plt\n",
        "import seaborn as sns\n",
        "import plotly.express as px\n",
        "import plotly.graph_objects as go\n",
        "\n",
        "# Basic Operations\n",
        "import numpy as np\n",
        "import itertools\n",
        "import operator\n",
        "import re\n",
        " \n",
        "# Prepocessing\n",
        "from sklearn import preprocessing \n",
        "from sklearn.decomposition import PCA\n",
        "from sklearn.impute import KNNImputer\n",
        "\n",
        "#Translate\n",
        "from googletrans import Translator"
      ],
      "execution_count": null,
      "outputs": []
    },
    {
      "cell_type": "markdown",
      "metadata": {
        "id": "rvb6j9VBvZNy"
      },
      "source": [
        "## 1. Carga de datos\r\n",
        "\r\n",
        "Se cargarán dos dataset, **steam_games**, que hace referencia al dataset principal, y **steam_requirements_data**, el dataset de apoyo del que intentaremos extraer los máximos datos posibles."
      ]
    },
    {
      "cell_type": "code",
      "metadata": {
        "id": "Gl-tqLDYzXTf"
      },
      "source": [
        "steam_games = pd.read_csv('steam.csv', sep=',') ## Dataset principal\n",
        "game_requirements = pd.read_csv('steam_requirements_data.csv', sep=',') ## Dataset de apoyo\n"
      ],
      "execution_count": null,
      "outputs": []
    },
    {
      "cell_type": "markdown",
      "metadata": {
        "id": "8pd0EhqTwaIo"
      },
      "source": [
        "## 2. Dataset principal"
      ]
    },
    {
      "cell_type": "code",
      "metadata": {
        "colab": {
          "base_uri": "https://localhost:8080/",
          "height": 305
        },
        "id": "0i5QrSIYv3c3",
        "outputId": "f4d3603c-fa9e-4606-ce8b-86f5235c5e3d"
      },
      "source": [
        "print(\"Número de registros: \" + str(len(steam_games)))\r\n",
        "steam_games.head()"
      ],
      "execution_count": null,
      "outputs": [
        {
          "output_type": "stream",
          "text": [
            "Número de registros: 27075\n"
          ],
          "name": "stdout"
        },
        {
          "output_type": "execute_result",
          "data": {
            "text/html": [
              "<div>\n",
              "<style scoped>\n",
              "    .dataframe tbody tr th:only-of-type {\n",
              "        vertical-align: middle;\n",
              "    }\n",
              "\n",
              "    .dataframe tbody tr th {\n",
              "        vertical-align: top;\n",
              "    }\n",
              "\n",
              "    .dataframe thead th {\n",
              "        text-align: right;\n",
              "    }\n",
              "</style>\n",
              "<table border=\"1\" class=\"dataframe\">\n",
              "  <thead>\n",
              "    <tr style=\"text-align: right;\">\n",
              "      <th></th>\n",
              "      <th>appid</th>\n",
              "      <th>name</th>\n",
              "      <th>release_date</th>\n",
              "      <th>english</th>\n",
              "      <th>developer</th>\n",
              "      <th>publisher</th>\n",
              "      <th>platforms</th>\n",
              "      <th>required_age</th>\n",
              "      <th>categories</th>\n",
              "      <th>genres</th>\n",
              "      <th>steamspy_tags</th>\n",
              "      <th>achievements</th>\n",
              "      <th>positive_ratings</th>\n",
              "      <th>negative_ratings</th>\n",
              "      <th>average_playtime</th>\n",
              "      <th>median_playtime</th>\n",
              "      <th>owners</th>\n",
              "      <th>price</th>\n",
              "    </tr>\n",
              "  </thead>\n",
              "  <tbody>\n",
              "    <tr>\n",
              "      <th>0</th>\n",
              "      <td>10</td>\n",
              "      <td>Counter-Strike</td>\n",
              "      <td>2000-11-01</td>\n",
              "      <td>1</td>\n",
              "      <td>Valve</td>\n",
              "      <td>Valve</td>\n",
              "      <td>windows;mac;linux</td>\n",
              "      <td>0</td>\n",
              "      <td>Multi-player;Online Multi-Player;Local Multi-P...</td>\n",
              "      <td>Action</td>\n",
              "      <td>Action;FPS;Multiplayer</td>\n",
              "      <td>0</td>\n",
              "      <td>124534</td>\n",
              "      <td>3339</td>\n",
              "      <td>17612</td>\n",
              "      <td>317</td>\n",
              "      <td>10000000-20000000</td>\n",
              "      <td>7.19</td>\n",
              "    </tr>\n",
              "    <tr>\n",
              "      <th>1</th>\n",
              "      <td>20</td>\n",
              "      <td>Team Fortress Classic</td>\n",
              "      <td>1999-04-01</td>\n",
              "      <td>1</td>\n",
              "      <td>Valve</td>\n",
              "      <td>Valve</td>\n",
              "      <td>windows;mac;linux</td>\n",
              "      <td>0</td>\n",
              "      <td>Multi-player;Online Multi-Player;Local Multi-P...</td>\n",
              "      <td>Action</td>\n",
              "      <td>Action;FPS;Multiplayer</td>\n",
              "      <td>0</td>\n",
              "      <td>3318</td>\n",
              "      <td>633</td>\n",
              "      <td>277</td>\n",
              "      <td>62</td>\n",
              "      <td>5000000-10000000</td>\n",
              "      <td>3.99</td>\n",
              "    </tr>\n",
              "    <tr>\n",
              "      <th>2</th>\n",
              "      <td>30</td>\n",
              "      <td>Day of Defeat</td>\n",
              "      <td>2003-05-01</td>\n",
              "      <td>1</td>\n",
              "      <td>Valve</td>\n",
              "      <td>Valve</td>\n",
              "      <td>windows;mac;linux</td>\n",
              "      <td>0</td>\n",
              "      <td>Multi-player;Valve Anti-Cheat enabled</td>\n",
              "      <td>Action</td>\n",
              "      <td>FPS;World War II;Multiplayer</td>\n",
              "      <td>0</td>\n",
              "      <td>3416</td>\n",
              "      <td>398</td>\n",
              "      <td>187</td>\n",
              "      <td>34</td>\n",
              "      <td>5000000-10000000</td>\n",
              "      <td>3.99</td>\n",
              "    </tr>\n",
              "    <tr>\n",
              "      <th>3</th>\n",
              "      <td>40</td>\n",
              "      <td>Deathmatch Classic</td>\n",
              "      <td>2001-06-01</td>\n",
              "      <td>1</td>\n",
              "      <td>Valve</td>\n",
              "      <td>Valve</td>\n",
              "      <td>windows;mac;linux</td>\n",
              "      <td>0</td>\n",
              "      <td>Multi-player;Online Multi-Player;Local Multi-P...</td>\n",
              "      <td>Action</td>\n",
              "      <td>Action;FPS;Multiplayer</td>\n",
              "      <td>0</td>\n",
              "      <td>1273</td>\n",
              "      <td>267</td>\n",
              "      <td>258</td>\n",
              "      <td>184</td>\n",
              "      <td>5000000-10000000</td>\n",
              "      <td>3.99</td>\n",
              "    </tr>\n",
              "    <tr>\n",
              "      <th>4</th>\n",
              "      <td>50</td>\n",
              "      <td>Half-Life: Opposing Force</td>\n",
              "      <td>1999-11-01</td>\n",
              "      <td>1</td>\n",
              "      <td>Gearbox Software</td>\n",
              "      <td>Valve</td>\n",
              "      <td>windows;mac;linux</td>\n",
              "      <td>0</td>\n",
              "      <td>Single-player;Multi-player;Valve Anti-Cheat en...</td>\n",
              "      <td>Action</td>\n",
              "      <td>FPS;Action;Sci-fi</td>\n",
              "      <td>0</td>\n",
              "      <td>5250</td>\n",
              "      <td>288</td>\n",
              "      <td>624</td>\n",
              "      <td>415</td>\n",
              "      <td>5000000-10000000</td>\n",
              "      <td>3.99</td>\n",
              "    </tr>\n",
              "  </tbody>\n",
              "</table>\n",
              "</div>"
            ],
            "text/plain": [
              "   appid                       name  ...             owners  price\n",
              "0     10             Counter-Strike  ...  10000000-20000000   7.19\n",
              "1     20      Team Fortress Classic  ...   5000000-10000000   3.99\n",
              "2     30              Day of Defeat  ...   5000000-10000000   3.99\n",
              "3     40         Deathmatch Classic  ...   5000000-10000000   3.99\n",
              "4     50  Half-Life: Opposing Force  ...   5000000-10000000   3.99\n",
              "\n",
              "[5 rows x 18 columns]"
            ]
          },
          "metadata": {
            "tags": []
          },
          "execution_count": 3
        }
      ]
    },
    {
      "cell_type": "markdown",
      "metadata": {
        "id": "xrBQvcjwbJWU"
      },
      "source": [
        "Se pretende adquirir información adicional de los requisitos hardware de cada juego."
      ]
    },
    {
      "cell_type": "markdown",
      "metadata": {
        "id": "rA2M1T2bxIDG"
      },
      "source": [
        "## 3. Dataset de apoyo\r\n",
        "\r\n",
        "Este dataset cuenta con los requisitos minimos y recomendados para jugar cada juego segun el sistema operativo y caracteristicas generales idependientes de estos."
      ]
    },
    {
      "cell_type": "markdown",
      "metadata": {
        "id": "YGKcFYeWzXTf"
      },
      "source": [
        "Debido a que vamos a modificar los DataFrame, vamos a crear una copia para poder tener a mano los datos originales aún modificando estos DataFrame."
      ]
    },
    {
      "cell_type": "code",
      "metadata": {
        "colab": {
          "base_uri": "https://localhost:8080/",
          "height": 207
        },
        "id": "03n2V9VYzXTf",
        "outputId": "bf815d9f-952b-4166-e27a-50c74ea138a2"
      },
      "source": [
        "print(\"Número de registros en el dataset original: \" + str(len(game_requirements)))\r\n",
        "game_requirements.head()"
      ],
      "execution_count": null,
      "outputs": [
        {
          "output_type": "stream",
          "text": [
            "Número de registros en el dataset original: 27319\n"
          ],
          "name": "stdout"
        },
        {
          "output_type": "execute_result",
          "data": {
            "text/html": [
              "<div>\n",
              "<style scoped>\n",
              "    .dataframe tbody tr th:only-of-type {\n",
              "        vertical-align: middle;\n",
              "    }\n",
              "\n",
              "    .dataframe tbody tr th {\n",
              "        vertical-align: top;\n",
              "    }\n",
              "\n",
              "    .dataframe thead th {\n",
              "        text-align: right;\n",
              "    }\n",
              "</style>\n",
              "<table border=\"1\" class=\"dataframe\">\n",
              "  <thead>\n",
              "    <tr style=\"text-align: right;\">\n",
              "      <th></th>\n",
              "      <th>steam_appid</th>\n",
              "      <th>pc_requirements</th>\n",
              "      <th>mac_requirements</th>\n",
              "      <th>linux_requirements</th>\n",
              "      <th>minimum</th>\n",
              "      <th>recommended</th>\n",
              "    </tr>\n",
              "  </thead>\n",
              "  <tbody>\n",
              "    <tr>\n",
              "      <th>0</th>\n",
              "      <td>10</td>\n",
              "      <td>{'minimum': '\\r\\n\\t\\t\\t&lt;p&gt;&lt;strong&gt;Minimum:&lt;/st...</td>\n",
              "      <td>{'minimum': 'Minimum: OS X  Snow Leopard 10.6....</td>\n",
              "      <td>{'minimum': 'Minimum: Linux Ubuntu 12.04, Dual...</td>\n",
              "      <td>500 mhz processor, 96mb ram, 16mb video card, ...</td>\n",
              "      <td>NaN</td>\n",
              "    </tr>\n",
              "    <tr>\n",
              "      <th>1</th>\n",
              "      <td>20</td>\n",
              "      <td>{'minimum': '\\r\\n\\t\\t\\t&lt;p&gt;&lt;strong&gt;Minimum:&lt;/st...</td>\n",
              "      <td>{'minimum': 'Minimum: OS X  Snow Leopard 10.6....</td>\n",
              "      <td>{'minimum': 'Minimum: Linux Ubuntu 12.04, Dual...</td>\n",
              "      <td>500 mhz processor, 96mb ram, 16mb video card, ...</td>\n",
              "      <td>NaN</td>\n",
              "    </tr>\n",
              "    <tr>\n",
              "      <th>2</th>\n",
              "      <td>30</td>\n",
              "      <td>{'minimum': '\\r\\n\\t\\t\\t&lt;p&gt;&lt;strong&gt;Minimum:&lt;/st...</td>\n",
              "      <td>{'minimum': 'Minimum: OS X  Snow Leopard 10.6....</td>\n",
              "      <td>{'minimum': 'Minimum: Linux Ubuntu 12.04, Dual...</td>\n",
              "      <td>500 mhz processor, 96mb ram, 16mb video card, ...</td>\n",
              "      <td>NaN</td>\n",
              "    </tr>\n",
              "    <tr>\n",
              "      <th>3</th>\n",
              "      <td>40</td>\n",
              "      <td>{'minimum': '\\r\\n\\t\\t\\t&lt;p&gt;&lt;strong&gt;Minimum:&lt;/st...</td>\n",
              "      <td>{'minimum': 'Minimum: OS X  Snow Leopard 10.6....</td>\n",
              "      <td>{'minimum': 'Minimum: Linux Ubuntu 12.04, Dual...</td>\n",
              "      <td>500 mhz processor, 96mb ram, 16mb video card, ...</td>\n",
              "      <td>NaN</td>\n",
              "    </tr>\n",
              "    <tr>\n",
              "      <th>4</th>\n",
              "      <td>50</td>\n",
              "      <td>{'minimum': '\\r\\n\\t\\t\\t&lt;p&gt;&lt;strong&gt;Minimum:&lt;/st...</td>\n",
              "      <td>{'minimum': 'Minimum: OS X  Snow Leopard 10.6....</td>\n",
              "      <td>{'minimum': 'Minimum: Linux Ubuntu 12.04, Dual...</td>\n",
              "      <td>500 mhz processor, 96mb ram, 16mb video card, ...</td>\n",
              "      <td>NaN</td>\n",
              "    </tr>\n",
              "  </tbody>\n",
              "</table>\n",
              "</div>"
            ],
            "text/plain": [
              "   steam_appid  ... recommended\n",
              "0           10  ...         NaN\n",
              "1           20  ...         NaN\n",
              "2           30  ...         NaN\n",
              "3           40  ...         NaN\n",
              "4           50  ...         NaN\n",
              "\n",
              "[5 rows x 6 columns]"
            ]
          },
          "metadata": {
            "tags": []
          },
          "execution_count": 4
        }
      ]
    },
    {
      "cell_type": "code",
      "metadata": {
        "id": "sElh-g9izXTf"
      },
      "source": [
        "original_game_requirements = game_requirements.copy()"
      ],
      "execution_count": null,
      "outputs": []
    },
    {
      "cell_type": "markdown",
      "metadata": {
        "id": "EsicWhSVzXTf"
      },
      "source": [
        "### Localización de los valores vacíos"
      ]
    },
    {
      "cell_type": "code",
      "metadata": {
        "colab": {
          "base_uri": "https://localhost:8080/"
        },
        "id": "NF_VGJMVGlc9",
        "outputId": "3b055012-7175-42d9-89c7-2d299ba1c8e2"
      },
      "source": [
        "pd.isnull(game_requirements).any()"
      ],
      "execution_count": null,
      "outputs": [
        {
          "output_type": "execute_result",
          "data": {
            "text/plain": [
              "steam_appid           False\n",
              "pc_requirements       False\n",
              "mac_requirements      False\n",
              "linux_requirements    False\n",
              "minimum                True\n",
              "recommended            True\n",
              "dtype: bool"
            ]
          },
          "metadata": {
            "tags": []
          },
          "execution_count": 6
        }
      ]
    },
    {
      "cell_type": "code",
      "metadata": {
        "colab": {
          "base_uri": "https://localhost:8080/"
        },
        "id": "nb4vff1TzXTf",
        "outputId": "d443906d-db0e-4dc7-bf92-88fbb7b5456f"
      },
      "source": [
        "print(\"Número de valores vacíos por variable en los datasets auxiliares: \")\n",
        "game_requirements.isnull().sum()"
      ],
      "execution_count": null,
      "outputs": [
        {
          "output_type": "stream",
          "text": [
            "Número de valores vacíos por variable en los datasets auxiliares: \n"
          ],
          "name": "stdout"
        },
        {
          "output_type": "execute_result",
          "data": {
            "text/plain": [
              "steam_appid               0\n",
              "pc_requirements           0\n",
              "mac_requirements          0\n",
              "linux_requirements        0\n",
              "minimum                   5\n",
              "recommended           13185\n",
              "dtype: int64"
            ]
          },
          "metadata": {
            "tags": []
          },
          "execution_count": 8
        }
      ]
    },
    {
      "cell_type": "markdown",
      "metadata": {
        "id": "zbk_x9OLxSql"
      },
      "source": [
        "### Limpieza del dataset\r\n",
        "\r\n",
        "Depuramos el dataset, eliminando columnas innecesarias y registros que no tienen un valor real. "
      ]
    },
    {
      "cell_type": "code",
      "metadata": {
        "colab": {
          "base_uri": "https://localhost:8080/",
          "height": 391
        },
        "id": "eisMJGHQxZu2",
        "outputId": "b2a72375-9951-4582-d7e0-37fa3f37cd31"
      },
      "source": [
        "## Columnas que no aportan nada completas.\r\n",
        "game_requirements.drop(\"recommended\", axis = 1, inplace = True) ## Columna vacía por defecto.\r\n",
        "\r\n",
        "game_requirements"
      ],
      "execution_count": null,
      "outputs": [
        {
          "output_type": "execute_result",
          "data": {
            "text/html": [
              "<div>\n",
              "<style scoped>\n",
              "    .dataframe tbody tr th:only-of-type {\n",
              "        vertical-align: middle;\n",
              "    }\n",
              "\n",
              "    .dataframe tbody tr th {\n",
              "        vertical-align: top;\n",
              "    }\n",
              "\n",
              "    .dataframe thead th {\n",
              "        text-align: right;\n",
              "    }\n",
              "</style>\n",
              "<table border=\"1\" class=\"dataframe\">\n",
              "  <thead>\n",
              "    <tr style=\"text-align: right;\">\n",
              "      <th></th>\n",
              "      <th>steam_appid</th>\n",
              "      <th>pc_requirements</th>\n",
              "      <th>mac_requirements</th>\n",
              "      <th>linux_requirements</th>\n",
              "      <th>minimum</th>\n",
              "    </tr>\n",
              "  </thead>\n",
              "  <tbody>\n",
              "    <tr>\n",
              "      <th>0</th>\n",
              "      <td>10</td>\n",
              "      <td>{'minimum': '\\r\\n\\t\\t\\t&lt;p&gt;&lt;strong&gt;Minimum:&lt;/st...</td>\n",
              "      <td>{'minimum': 'Minimum: OS X  Snow Leopard 10.6....</td>\n",
              "      <td>{'minimum': 'Minimum: Linux Ubuntu 12.04, Dual...</td>\n",
              "      <td>500 mhz processor, 96mb ram, 16mb video card, ...</td>\n",
              "    </tr>\n",
              "    <tr>\n",
              "      <th>1</th>\n",
              "      <td>20</td>\n",
              "      <td>{'minimum': '\\r\\n\\t\\t\\t&lt;p&gt;&lt;strong&gt;Minimum:&lt;/st...</td>\n",
              "      <td>{'minimum': 'Minimum: OS X  Snow Leopard 10.6....</td>\n",
              "      <td>{'minimum': 'Minimum: Linux Ubuntu 12.04, Dual...</td>\n",
              "      <td>500 mhz processor, 96mb ram, 16mb video card, ...</td>\n",
              "    </tr>\n",
              "    <tr>\n",
              "      <th>2</th>\n",
              "      <td>30</td>\n",
              "      <td>{'minimum': '\\r\\n\\t\\t\\t&lt;p&gt;&lt;strong&gt;Minimum:&lt;/st...</td>\n",
              "      <td>{'minimum': 'Minimum: OS X  Snow Leopard 10.6....</td>\n",
              "      <td>{'minimum': 'Minimum: Linux Ubuntu 12.04, Dual...</td>\n",
              "      <td>500 mhz processor, 96mb ram, 16mb video card, ...</td>\n",
              "    </tr>\n",
              "    <tr>\n",
              "      <th>3</th>\n",
              "      <td>40</td>\n",
              "      <td>{'minimum': '\\r\\n\\t\\t\\t&lt;p&gt;&lt;strong&gt;Minimum:&lt;/st...</td>\n",
              "      <td>{'minimum': 'Minimum: OS X  Snow Leopard 10.6....</td>\n",
              "      <td>{'minimum': 'Minimum: Linux Ubuntu 12.04, Dual...</td>\n",
              "      <td>500 mhz processor, 96mb ram, 16mb video card, ...</td>\n",
              "    </tr>\n",
              "    <tr>\n",
              "      <th>4</th>\n",
              "      <td>50</td>\n",
              "      <td>{'minimum': '\\r\\n\\t\\t\\t&lt;p&gt;&lt;strong&gt;Minimum:&lt;/st...</td>\n",
              "      <td>{'minimum': 'Minimum: OS X  Snow Leopard 10.6....</td>\n",
              "      <td>{'minimum': 'Minimum: Linux Ubuntu 12.04, Dual...</td>\n",
              "      <td>500 mhz processor, 96mb ram, 16mb video card, ...</td>\n",
              "    </tr>\n",
              "    <tr>\n",
              "      <th>...</th>\n",
              "      <td>...</td>\n",
              "      <td>...</td>\n",
              "      <td>...</td>\n",
              "      <td>...</td>\n",
              "      <td>...</td>\n",
              "    </tr>\n",
              "    <tr>\n",
              "      <th>27314</th>\n",
              "      <td>1065230</td>\n",
              "      <td>{'minimum': '&lt;strong&gt;Minimum:&lt;/strong&gt;&lt;br&gt;&lt;ul ...</td>\n",
              "      <td>[]</td>\n",
              "      <td>[]</td>\n",
              "      <td>OS: Windows 7 Processor: Inter Core i7 Memory:...</td>\n",
              "    </tr>\n",
              "    <tr>\n",
              "      <th>27315</th>\n",
              "      <td>1065570</td>\n",
              "      <td>{'minimum': '&lt;strong&gt;Minimum:&lt;/strong&gt;&lt;br&gt;&lt;ul ...</td>\n",
              "      <td>[]</td>\n",
              "      <td>[]</td>\n",
              "      <td>OS: Windows XP, Vista, 7, 8, 10 Processor: Int...</td>\n",
              "    </tr>\n",
              "    <tr>\n",
              "      <th>27316</th>\n",
              "      <td>1065650</td>\n",
              "      <td>{'minimum': '&lt;strong&gt;Minimum:&lt;/strong&gt;&lt;br&gt;&lt;ul ...</td>\n",
              "      <td>[]</td>\n",
              "      <td>[]</td>\n",
              "      <td>OS: Windows 7, Windows 8, Windows 10 (32/64bit...</td>\n",
              "    </tr>\n",
              "    <tr>\n",
              "      <th>27317</th>\n",
              "      <td>1066700</td>\n",
              "      <td>{'minimum': '&lt;strong&gt;Minimum:&lt;/strong&gt;&lt;br&gt;&lt;ul ...</td>\n",
              "      <td>{'minimum': '&lt;strong&gt;Minimum:&lt;/strong&gt;&lt;br&gt;&lt;ul ...</td>\n",
              "      <td>[]</td>\n",
              "      <td>OS: Windows XP or later Processor: 1.5 GHz Mem...</td>\n",
              "    </tr>\n",
              "    <tr>\n",
              "      <th>27318</th>\n",
              "      <td>1069460</td>\n",
              "      <td>{'minimum': '&lt;strong&gt;Minimum:&lt;/strong&gt;&lt;br&gt;&lt;ul ...</td>\n",
              "      <td>{'minimum': '&lt;strong&gt;Minimum:&lt;/strong&gt;&lt;br&gt;&lt;ul ...</td>\n",
              "      <td>[]</td>\n",
              "      <td>OS: Windows XP or later Processor: 2 GHz Memor...</td>\n",
              "    </tr>\n",
              "  </tbody>\n",
              "</table>\n",
              "<p>27319 rows × 5 columns</p>\n",
              "</div>"
            ],
            "text/plain": [
              "       steam_appid  ...                                            minimum\n",
              "0               10  ...  500 mhz processor, 96mb ram, 16mb video card, ...\n",
              "1               20  ...  500 mhz processor, 96mb ram, 16mb video card, ...\n",
              "2               30  ...  500 mhz processor, 96mb ram, 16mb video card, ...\n",
              "3               40  ...  500 mhz processor, 96mb ram, 16mb video card, ...\n",
              "4               50  ...  500 mhz processor, 96mb ram, 16mb video card, ...\n",
              "...            ...  ...                                                ...\n",
              "27314      1065230  ...  OS: Windows 7 Processor: Inter Core i7 Memory:...\n",
              "27315      1065570  ...  OS: Windows XP, Vista, 7, 8, 10 Processor: Int...\n",
              "27316      1065650  ...  OS: Windows 7, Windows 8, Windows 10 (32/64bit...\n",
              "27317      1066700  ...  OS: Windows XP or later Processor: 1.5 GHz Mem...\n",
              "27318      1069460  ...  OS: Windows XP or later Processor: 2 GHz Memor...\n",
              "\n",
              "[27319 rows x 5 columns]"
            ]
          },
          "metadata": {
            "tags": []
          },
          "execution_count": 7
        }
      ]
    },
    {
      "cell_type": "markdown",
      "metadata": {
        "id": "8hhGbO7_x4aH"
      },
      "source": [
        "### Preprocesado del resto de las variables del dataset de soporte\n"
      ]
    },
    {
      "cell_type": "markdown",
      "metadata": {
        "id": "r4dUDy7Yx9Yu"
      },
      "source": [
        "Al dataset principal se le han agregado una serie datasets auxiliares, que dan soporte al principal."
      ]
    },
    {
      "cell_type": "markdown",
      "metadata": {
        "id": "k1jnjSJw7sLZ"
      },
      "source": [
        "Algunas de las variables se encuentran en distintintos idiomas, encontrandonos una gran variedad donde predomina el ingles, en adicción a esta situación nos encontramos con una variedad de formatos en los que se definen las carcateriscas. Para poder preprocesar la información se procede a traducir todos los idiomas detectados al ingles, eliminar etiquetas que no proporcionan informacion de utilidad dejando un formato que es posible analizar para obtener la información."
      ]
    },
    {
      "cell_type": "markdown",
      "metadata": {
        "id": "7p2pFAe4lD2p"
      },
      "source": [
        "Definimos el traductor y las columnas de las que obtendremos la información."
      ]
    },
    {
      "cell_type": "code",
      "metadata": {
        "id": "LjhoEnLzkeTK"
      },
      "source": [
        "translator = Translator()\r\n",
        "column = ['pc_requirements', 'minimum','linux_requirements']"
      ],
      "execution_count": null,
      "outputs": []
    },
    {
      "cell_type": "markdown",
      "metadata": {
        "id": "POPbrHmD1HuI"
      },
      "source": [
        "Prestamos especial atención que la dificultad que tiene origen en la variedad de idiomas y lenguajes en la que se recoge la informacion impide captar toda la información en el dataset, por lo que nos centramos en el **procesador** *velocidad en Hz* y el tamaño de **RAM** *en MB*."
      ]
    },
    {
      "cell_type": "markdown",
      "metadata": {
        "id": "AbhpU8uwcW5h"
      },
      "source": [
        "Creamos las columnas que contendran el resultado de analizar la información"
      ]
    },
    {
      "cell_type": "code",
      "metadata": {
        "id": "J8bxx6yAGlc6"
      },
      "source": [
        "game_requirements[\"RAM\"] = np.nan\n",
        "game_requirements[\"RAM_MBytes\"] = np.nan\n",
        "game_requirements[\"Processor\"] = np.nan\n",
        "game_requirements[\"Processor MHZ\"] = np.nan"
      ],
      "execution_count": null,
      "outputs": []
    },
    {
      "cell_type": "markdown",
      "metadata": {
        "id": "xsuA5TPrdXJg"
      },
      "source": [
        "Metodos requeridos:\r\n",
        "> **aplanar(s)**: aplanamos la lista 's'y eliminamos la información repetida y las expresiones regulares que no aportan información util. La lista es la generada por la libreria de expresiones regulares.\r\n",
        "\r\n",
        "> **getRam(i, column)**: analizamos y recogemos la información de la **RAM** perteneciente a una columna.\r\n",
        "\r\n",
        "> **getProcessor(i, column)**: analizamos y recogemos la información del **Procesador** perteneciente a una columna.\r\n",
        "\r\n",
        "\r\n",
        "\r\n",
        "\r\n"
      ]
    },
    {
      "cell_type": "code",
      "metadata": {
        "id": "hBvh73ywsQh0"
      },
      "source": [
        "def aplanar(s, element_unseful):\r\n",
        "  element_unseful = ['mb','gb','ram','RAM', '']\r\n",
        "  s = [y for x in s for y in x]\r\n",
        "  for e in element_unseful:\r\n",
        "    s = list(filter(lambda a: a != e, s))\r\n",
        "  return list(dict.fromkeys(s))"
      ],
      "execution_count": null,
      "outputs": []
    },
    {
      "cell_type": "code",
      "metadata": {
        "id": "s8Kg_FCMGlc7"
      },
      "source": [
        "def cleanHTML(i, column):\n",
        "  #print(game_requirements.pc_requirements[i])\n",
        "  s = re.sub(r'<[/a-zA-Z0-9_\"=\\' ' '\\t]*>', \" \", game_requirements[column][i])\n",
        "  s = re.sub(r'\\\\t', \" \", re.sub(r'\\\\r', \"\", re.sub(r'\\\\n', \"\", s)))\n",
        "  #s = translator.translate(s, dest='en').text\n",
        "  #print(s)\n",
        "  game_requirements.loc[i, column] = s\n"
      ],
      "execution_count": null,
      "outputs": []
    },
    {
      "cell_type": "code",
      "metadata": {
        "id": "DsZLfZNDGlc9"
      },
      "source": [
        "def getRam(i, column):\n",
        "  s = re.findall(r'((\\d+ ?((mb)|(gb)) (ram))|(\\d+ ?((mb)|(gb))))', game_requirements[column][i].lower())\n",
        "  element_unseful = ['mb','gb','ram','RAM', '']\n",
        "  s = aplanar(s, element_unseful)\n",
        "  if len(s) != 0:\n",
        "    game_requirements.loc[i, 'RAM'] = s[0]\n",
        "    try:\n",
        "      if 'mb' in s[0]:\n",
        "        game_requirements.loc[i, 'RAM_MBytes'] = (int)(re.findall(r'\\d+', s[0])[0])\n",
        "      else:\n",
        "        game_requirements.loc[i, 'RAM_MBytes'] = (int)(re.findall(r'\\d+', s[0])[0])*1000\n",
        "    except:\n",
        "      print('Error en el analisis de la memoria ram en el registro ', i)\n"
      ],
      "execution_count": null,
      "outputs": []
    },
    {
      "cell_type": "code",
      "metadata": {
        "id": "4b4GsQe6Glc9"
      },
      "source": [
        "def getProcessor(i, column):\n",
        "  s = game_requirements[column][i].split('Memory')[0]\n",
        "  s = re.findall(r'(\\d+((\\.|\\,)\\d+)? ?(g|m)hz)|(processor: [\\w0-9a-zA-Z-\\. ]+)', s.lower())\n",
        "  element_unseful = ['m','mhz','hz','g','ghz', '']\n",
        "  s = aplanar(s, element_unseful)\n",
        "  if len(s) != 0:\n",
        "    s = re.sub(r'Memory', \" \", s[0])\n",
        "    game_requirements.loc[i, 'Processor'] = s\n",
        "    try:\n",
        "      if 'hz' in s:\n",
        "        s = re.sub(r'\\,', '\\.', s)\n",
        "        if 'ghz' in s:\n",
        "          game_requirements.loc[i, 'Processor MHZ'] = ((float)(aplanar(re.findall(r'(\\d+\\.\\d+)|(\\d+)', s), element_unseful)[0]))*1000\n",
        "        else:\n",
        "          game_requirements.loc[i, 'Processor MHZ'] = (float)(aplanar(re.findall(r'(\\d+\\.\\d+)|(\\d+)', s), element_unseful)[0])\n",
        "    except:\n",
        "      print('Error en el analisis del procesador en el registro ', i)\n"
      ],
      "execution_count": null,
      "outputs": []
    },
    {
      "cell_type": "code",
      "metadata": {
        "colab": {
          "base_uri": "https://localhost:8080/",
          "height": 288
        },
        "id": "4zpaR7qd3_g3",
        "outputId": "ab114332-4831-46cb-9783-ac5a54fcc48d"
      },
      "source": [
        "for i in game_requirements.index:\n",
        "  try:\n",
        "      cleanHTML(i, column[1])\n",
        "      getRam(i, column[1])\n",
        "      getProcessor(i, column[1])\n",
        "  except:\n",
        "    print('Error en el analisis en el registro ', i)\n",
        "\n",
        "game_requirements.head()\n"
      ],
      "execution_count": null,
      "outputs": [
        {
          "output_type": "stream",
          "text": [
            "Error en el analisis en el registro  6109\n",
            "Error en el analisis en el registro  8471\n",
            "Error en el analisis del procesador en el registro  9616\n",
            "Error en el analisis en el registro  11043\n",
            "Error en el analisis en el registro  13063\n",
            "Error en el analisis en el registro  15587\n"
          ],
          "name": "stdout"
        },
        {
          "output_type": "execute_result",
          "data": {
            "text/html": [
              "<div>\n",
              "<style scoped>\n",
              "    .dataframe tbody tr th:only-of-type {\n",
              "        vertical-align: middle;\n",
              "    }\n",
              "\n",
              "    .dataframe tbody tr th {\n",
              "        vertical-align: top;\n",
              "    }\n",
              "\n",
              "    .dataframe thead th {\n",
              "        text-align: right;\n",
              "    }\n",
              "</style>\n",
              "<table border=\"1\" class=\"dataframe\">\n",
              "  <thead>\n",
              "    <tr style=\"text-align: right;\">\n",
              "      <th></th>\n",
              "      <th>steam_appid</th>\n",
              "      <th>pc_requirements</th>\n",
              "      <th>mac_requirements</th>\n",
              "      <th>linux_requirements</th>\n",
              "      <th>minimum</th>\n",
              "      <th>RAM</th>\n",
              "      <th>RAM_MBytes</th>\n",
              "      <th>Processor</th>\n",
              "      <th>Processor MHZ</th>\n",
              "    </tr>\n",
              "  </thead>\n",
              "  <tbody>\n",
              "    <tr>\n",
              "      <th>0</th>\n",
              "      <td>10</td>\n",
              "      <td>{'minimum': '\\r\\n\\t\\t\\t&lt;p&gt;&lt;strong&gt;Minimum:&lt;/st...</td>\n",
              "      <td>{'minimum': 'Minimum: OS X  Snow Leopard 10.6....</td>\n",
              "      <td>{'minimum': 'Minimum: Linux Ubuntu 12.04, Dual...</td>\n",
              "      <td>500 mhz processor, 96mb ram, 16mb video card, ...</td>\n",
              "      <td>96mb ram</td>\n",
              "      <td>96.0</td>\n",
              "      <td>500 mhz</td>\n",
              "      <td>500.0</td>\n",
              "    </tr>\n",
              "    <tr>\n",
              "      <th>1</th>\n",
              "      <td>20</td>\n",
              "      <td>{'minimum': '\\r\\n\\t\\t\\t&lt;p&gt;&lt;strong&gt;Minimum:&lt;/st...</td>\n",
              "      <td>{'minimum': 'Minimum: OS X  Snow Leopard 10.6....</td>\n",
              "      <td>{'minimum': 'Minimum: Linux Ubuntu 12.04, Dual...</td>\n",
              "      <td>500 mhz processor, 96mb ram, 16mb video card, ...</td>\n",
              "      <td>96mb ram</td>\n",
              "      <td>96.0</td>\n",
              "      <td>500 mhz</td>\n",
              "      <td>500.0</td>\n",
              "    </tr>\n",
              "    <tr>\n",
              "      <th>2</th>\n",
              "      <td>30</td>\n",
              "      <td>{'minimum': '\\r\\n\\t\\t\\t&lt;p&gt;&lt;strong&gt;Minimum:&lt;/st...</td>\n",
              "      <td>{'minimum': 'Minimum: OS X  Snow Leopard 10.6....</td>\n",
              "      <td>{'minimum': 'Minimum: Linux Ubuntu 12.04, Dual...</td>\n",
              "      <td>500 mhz processor, 96mb ram, 16mb video card, ...</td>\n",
              "      <td>96mb ram</td>\n",
              "      <td>96.0</td>\n",
              "      <td>500 mhz</td>\n",
              "      <td>500.0</td>\n",
              "    </tr>\n",
              "    <tr>\n",
              "      <th>3</th>\n",
              "      <td>40</td>\n",
              "      <td>{'minimum': '\\r\\n\\t\\t\\t&lt;p&gt;&lt;strong&gt;Minimum:&lt;/st...</td>\n",
              "      <td>{'minimum': 'Minimum: OS X  Snow Leopard 10.6....</td>\n",
              "      <td>{'minimum': 'Minimum: Linux Ubuntu 12.04, Dual...</td>\n",
              "      <td>500 mhz processor, 96mb ram, 16mb video card, ...</td>\n",
              "      <td>96mb ram</td>\n",
              "      <td>96.0</td>\n",
              "      <td>500 mhz</td>\n",
              "      <td>500.0</td>\n",
              "    </tr>\n",
              "    <tr>\n",
              "      <th>4</th>\n",
              "      <td>50</td>\n",
              "      <td>{'minimum': '\\r\\n\\t\\t\\t&lt;p&gt;&lt;strong&gt;Minimum:&lt;/st...</td>\n",
              "      <td>{'minimum': 'Minimum: OS X  Snow Leopard 10.6....</td>\n",
              "      <td>{'minimum': 'Minimum: Linux Ubuntu 12.04, Dual...</td>\n",
              "      <td>500 mhz processor, 96mb ram, 16mb video card, ...</td>\n",
              "      <td>96mb ram</td>\n",
              "      <td>96.0</td>\n",
              "      <td>500 mhz</td>\n",
              "      <td>500.0</td>\n",
              "    </tr>\n",
              "  </tbody>\n",
              "</table>\n",
              "</div>"
            ],
            "text/plain": [
              "   steam_appid  ... Processor MHZ\n",
              "0           10  ...         500.0\n",
              "1           20  ...         500.0\n",
              "2           30  ...         500.0\n",
              "3           40  ...         500.0\n",
              "4           50  ...         500.0\n",
              "\n",
              "[5 rows x 9 columns]"
            ]
          },
          "metadata": {
            "tags": []
          },
          "execution_count": 35
        }
      ]
    },
    {
      "cell_type": "markdown",
      "metadata": {
        "id": "Lj5tvLG8e9Zy"
      },
      "source": [
        "Respasamos los resultados del analisis y adquisición de la información aplicada sobre la columna de caracteristicas mínimas."
      ]
    },
    {
      "cell_type": "code",
      "metadata": {
        "id": "M6Fnz9Kn2cnD",
        "colab": {
          "base_uri": "https://localhost:8080/"
        },
        "outputId": "d0010819-717d-492c-eb96-f213b33e7cc3"
      },
      "source": [
        "print(\"Número de valores vacíos por variable en los datasets auxiliares: \")\n",
        "game_requirements.isnull().sum()"
      ],
      "execution_count": null,
      "outputs": [
        {
          "output_type": "stream",
          "text": [
            "Número de valores vacíos por variable en los datasets auxiliares: \n"
          ],
          "name": "stdout"
        },
        {
          "output_type": "execute_result",
          "data": {
            "text/plain": [
              "steam_appid               0\n",
              "pc_requirements           0\n",
              "mac_requirements          0\n",
              "linux_requirements        0\n",
              "minimum                   5\n",
              "RAM                     412\n",
              "RAM_MBytes              412\n",
              "Processor              2006\n",
              "Processor MHZ         14363\n",
              "dtype: int64"
            ]
          },
          "metadata": {
            "tags": []
          },
          "execution_count": 38
        }
      ]
    },
    {
      "cell_type": "markdown",
      "metadata": {
        "id": "DT_H6TGcfPTR"
      },
      "source": [
        "Nos centramos en las posiciones que debido a la variedad de los lenguajes y a la incompletitud de la columna no se han podido recoger la información."
      ]
    },
    {
      "cell_type": "code",
      "metadata": {
        "id": "GI4VSBT66abQ",
        "colab": {
          "base_uri": "https://localhost:8080/",
          "height": 191
        },
        "outputId": "3785d89a-085b-4339-d1d3-2f12110a0823"
      },
      "source": [
        "is_NaN = game_requirements.isnull()\r\n",
        "row_has_NaN = is_NaN.any(axis=1)\r\n",
        "rows_with_NaN = game_requirements[row_has_NaN]\r\n",
        "rows_with_NaN.head()"
      ],
      "execution_count": null,
      "outputs": [
        {
          "output_type": "execute_result",
          "data": {
            "text/html": [
              "<div>\n",
              "<style scoped>\n",
              "    .dataframe tbody tr th:only-of-type {\n",
              "        vertical-align: middle;\n",
              "    }\n",
              "\n",
              "    .dataframe tbody tr th {\n",
              "        vertical-align: top;\n",
              "    }\n",
              "\n",
              "    .dataframe thead th {\n",
              "        text-align: right;\n",
              "    }\n",
              "</style>\n",
              "<table border=\"1\" class=\"dataframe\">\n",
              "  <thead>\n",
              "    <tr style=\"text-align: right;\">\n",
              "      <th></th>\n",
              "      <th>steam_appid</th>\n",
              "      <th>pc_requirements</th>\n",
              "      <th>mac_requirements</th>\n",
              "      <th>linux_requirements</th>\n",
              "      <th>minimum</th>\n",
              "      <th>RAM</th>\n",
              "      <th>RAM_MBytes</th>\n",
              "      <th>Processor</th>\n",
              "      <th>Processor MHZ</th>\n",
              "    </tr>\n",
              "  </thead>\n",
              "  <tbody>\n",
              "    <tr>\n",
              "      <th>25</th>\n",
              "      <td>730</td>\n",
              "      <td>{'minimum': '&lt;strong&gt;Minimum:&lt;/strong&gt;&lt;br&gt;&lt;ul ...</td>\n",
              "      <td>{'minimum': '&lt;strong&gt;Minimum:&lt;/strong&gt;&lt;br&gt;&lt;ul ...</td>\n",
              "      <td>{'minimum': '&lt;strong&gt;Minimum:&lt;/strong&gt;&lt;br&gt;&lt;ul ...</td>\n",
              "      <td>OS: Windows® 7/Vista/XP Processor: Intel® Core...</td>\n",
              "      <td>2 gb ram</td>\n",
              "      <td>2000.0</td>\n",
              "      <td>processor: intel</td>\n",
              "      <td>NaN</td>\n",
              "    </tr>\n",
              "    <tr>\n",
              "      <th>31</th>\n",
              "      <td>1520</td>\n",
              "      <td>{'minimum': '&lt;strong&gt;Recommended:&lt;/strong&gt; Win...</td>\n",
              "      <td>{'minimum': '&lt;ul class=\"bb_ul\"&gt;&lt;li&gt;&lt;strong&gt;OS:...</td>\n",
              "      <td>{'minimum': '&lt;ul class=\"bb_ul\"&gt;&lt;li&gt;&lt;strong&gt;Pro...</td>\n",
              "      <td>Recommended: Windows XP, P3-600-Geforce 2, 128...</td>\n",
              "      <td>128 mb ram</td>\n",
              "      <td>128.0</td>\n",
              "      <td>NaN</td>\n",
              "      <td>NaN</td>\n",
              "    </tr>\n",
              "    <tr>\n",
              "      <th>34</th>\n",
              "      <td>1610</td>\n",
              "      <td>{'minimum': '&lt;strong&gt;Minimum:&lt;/strong&gt; Pentium...</td>\n",
              "      <td>[]</td>\n",
              "      <td>[]</td>\n",
              "      <td>Pentium Processor; Windows XP; 128MB RAM; 800x...</td>\n",
              "      <td>128mb ram</td>\n",
              "      <td>128.0</td>\n",
              "      <td>NaN</td>\n",
              "      <td>NaN</td>\n",
              "    </tr>\n",
              "    <tr>\n",
              "      <th>38</th>\n",
              "      <td>1690</td>\n",
              "      <td>{'minimum': '&lt;strong&gt;Minimum System Requiremen...</td>\n",
              "      <td>[]</td>\n",
              "      <td>[]</td>\n",
              "      <td>Minimum System Requirements: Pentium 500MHz or...</td>\n",
              "      <td>NaN</td>\n",
              "      <td>NaN</td>\n",
              "      <td>500mhz</td>\n",
              "      <td>500.0</td>\n",
              "    </tr>\n",
              "    <tr>\n",
              "      <th>45</th>\n",
              "      <td>2210</td>\n",
              "      <td>{'minimum': '&lt;ul class=\"bb_ul\"&gt;&lt;li&gt;&lt;strong&gt;Ope...</td>\n",
              "      <td>[]</td>\n",
              "      <td>[]</td>\n",
              "      <td>Operating System: Windows® XP  Processor: Inte...</td>\n",
              "      <td>512mb ram</td>\n",
              "      <td>512.0</td>\n",
              "      <td>processor: intel</td>\n",
              "      <td>NaN</td>\n",
              "    </tr>\n",
              "  </tbody>\n",
              "</table>\n",
              "</div>"
            ],
            "text/plain": [
              "    steam_appid  ... Processor MHZ\n",
              "25          730  ...           NaN\n",
              "31         1520  ...           NaN\n",
              "34         1610  ...           NaN\n",
              "38         1690  ...         500.0\n",
              "45         2210  ...           NaN\n",
              "\n",
              "[5 rows x 9 columns]"
            ]
          },
          "metadata": {
            "tags": []
          },
          "execution_count": 39
        }
      ]
    },
    {
      "cell_type": "code",
      "metadata": {
        "id": "n8BKnLcU-QE5",
        "colab": {
          "base_uri": "https://localhost:8080/"
        },
        "outputId": "4c3e7296-6fce-4fed-ba23-f4a2ccc14628"
      },
      "source": [
        "print(\"Número de registros con valores nulos en el dataset: \" + str(len(rows_with_NaN)))"
      ],
      "execution_count": null,
      "outputs": [
        {
          "output_type": "stream",
          "text": [
            "Número de registros con valores nulos en el dataset: 14402\n"
          ],
          "name": "stdout"
        }
      ]
    },
    {
      "cell_type": "markdown",
      "metadata": {
        "id": "E2Qt3if6fjzQ"
      },
      "source": [
        "Se realiza una segunda pasada con el obtetivo de recuperar la mayor información posible de otras columnas, haciendo especial atencion en la de **\"pc_requeriments\"**."
      ]
    },
    {
      "cell_type": "code",
      "metadata": {
        "id": "xDXgWfqN-cNg",
        "colab": {
          "base_uri": "https://localhost:8080/"
        },
        "outputId": "53afcfc1-148c-4087-e7d6-e4f35f11e6de"
      },
      "source": [
        "for i in rows_with_NaN.index:\r\n",
        "  try:\r\n",
        "    cleanHTML(i, column[0])\r\n",
        "    getRam(i, column[0])\r\n",
        "    getProcessor(i, column[0])\r\n",
        "  except:\r\n",
        "    print(i,'except')"
      ],
      "execution_count": null,
      "outputs": [
        {
          "output_type": "stream",
          "text": [
            "Error en el analisis del procesador en el registro  9616\n"
          ],
          "name": "stdout"
        }
      ]
    },
    {
      "cell_type": "code",
      "metadata": {
        "id": "mmBN2kbD_Uw0",
        "colab": {
          "base_uri": "https://localhost:8080/"
        },
        "outputId": "637c443f-c7d2-4154-e839-7ce83fae829e"
      },
      "source": [
        "pd.isnull(game_requirements).any()"
      ],
      "execution_count": null,
      "outputs": [
        {
          "output_type": "execute_result",
          "data": {
            "text/plain": [
              "steam_appid           False\n",
              "pc_requirements       False\n",
              "mac_requirements      False\n",
              "linux_requirements    False\n",
              "minimum                True\n",
              "RAM                    True\n",
              "RAM_MBytes             True\n",
              "Processor              True\n",
              "Processor MHZ          True\n",
              "dtype: bool"
            ]
          },
          "metadata": {
            "tags": []
          },
          "execution_count": 42
        }
      ]
    },
    {
      "cell_type": "code",
      "metadata": {
        "id": "K7wezp_D_Uw3",
        "colab": {
          "base_uri": "https://localhost:8080/"
        },
        "outputId": "c7f0ea9d-de38-445a-ad4b-37f48ba46842"
      },
      "source": [
        "print(\"Número de valores vacíos por variable en los datasets auxiliares: \")\n",
        "game_requirements.isnull().sum()"
      ],
      "execution_count": null,
      "outputs": [
        {
          "output_type": "stream",
          "text": [
            "Número de valores vacíos por variable en los datasets auxiliares: \n"
          ],
          "name": "stdout"
        },
        {
          "output_type": "execute_result",
          "data": {
            "text/plain": [
              "steam_appid               0\n",
              "pc_requirements           0\n",
              "mac_requirements          0\n",
              "linux_requirements        0\n",
              "minimum                   5\n",
              "RAM                     394\n",
              "RAM_MBytes              394\n",
              "Processor              1920\n",
              "Processor MHZ         14349\n",
              "dtype: int64"
            ]
          },
          "metadata": {
            "tags": []
          },
          "execution_count": 43
        }
      ]
    },
    {
      "cell_type": "markdown",
      "metadata": {
        "id": "KidIcw0uJif7"
      },
      "source": [
        "###Tratamiento de valores nulos"
      ]
    },
    {
      "cell_type": "markdown",
      "metadata": {
        "id": "AkxwYXHcf6IR"
      },
      "source": [
        "Como a pesar de los metodos de obtencion de información aun residen valores nulos se rellenan las columnas de **'Processor MHZ'** y **'RAM_MBytes'** que contienen valores numericos con la media de estos."
      ]
    },
    {
      "cell_type": "code",
      "metadata": {
        "id": "_xZumQJvJNUS"
      },
      "source": [
        "game_requirements['RAM_MBytes'].fillna(game_requirements['RAM_MBytes'].mean(), inplace = True)"
      ],
      "execution_count": null,
      "outputs": []
    },
    {
      "cell_type": "code",
      "metadata": {
        "colab": {
          "base_uri": "https://localhost:8080/"
        },
        "id": "8ptdEKKzwH4E",
        "outputId": "a5634a0b-ef08-47ad-d113-0542abdb2fac"
      },
      "source": [
        "pd.isnull(game_requirements).any()"
      ],
      "execution_count": null,
      "outputs": [
        {
          "output_type": "execute_result",
          "data": {
            "text/plain": [
              "steam_appid           False\n",
              "pc_requirements       False\n",
              "mac_requirements      False\n",
              "linux_requirements    False\n",
              "minimum                True\n",
              "RAM                    True\n",
              "RAM_MBytes            False\n",
              "Processor              True\n",
              "Processor MHZ         False\n",
              "dtype: bool"
            ]
          },
          "metadata": {
            "tags": []
          },
          "execution_count": 49
        }
      ]
    },
    {
      "cell_type": "markdown",
      "metadata": {
        "id": "wMCjqVQsfDEs"
      },
      "source": [
        "### Cálculo de la media"
      ]
    },
    {
      "cell_type": "code",
      "metadata": {
        "id": "-XKRqzhkyp3j",
        "colab": {
          "base_uri": "https://localhost:8080/"
        },
        "outputId": "8fab5c59-4848-4a2e-ee86-ee1259d84540"
      },
      "source": [
        " ram_mean = game_requirements.loc[:,'RAM_MBytes'].mean()\r\n",
        " ram_mean"
      ],
      "execution_count": null,
      "outputs": [
        {
          "output_type": "execute_result",
          "data": {
            "text/plain": [
              "2712.8930733518864"
            ]
          },
          "metadata": {
            "tags": []
          },
          "execution_count": 47
        }
      ]
    },
    {
      "cell_type": "code",
      "metadata": {
        "id": "fY_NKtrKCn6q",
        "colab": {
          "base_uri": "https://localhost:8080/"
        },
        "outputId": "37b49d2f-f4d7-4c6e-9064-d3804d8cbb3b"
      },
      "source": [
        "proc_mean = game_requirements.loc[:,'Processor MHZ'].mean()\r\n",
        "proc_mean"
      ],
      "execution_count": null,
      "outputs": [
        {
          "output_type": "execute_result",
          "data": {
            "text/plain": [
              "46260.17317346671"
            ]
          },
          "metadata": {
            "tags": []
          },
          "execution_count": 48
        }
      ]
    },
    {
      "cell_type": "markdown",
      "metadata": {
        "id": "XyN1IHiHfIgA"
      },
      "source": [
        "### Cálculo de la mediana"
      ]
    },
    {
      "cell_type": "code",
      "metadata": {
        "id": "ND6fG99lzO8e",
        "colab": {
          "base_uri": "https://localhost:8080/"
        },
        "outputId": "7c0db9da-255d-48c6-a664-fc1a96b22cf2"
      },
      "source": [
        "ram_median = game_requirements.loc[:,'RAM_MBytes'].median()\r\n",
        "ram_median"
      ],
      "execution_count": null,
      "outputs": [
        {
          "output_type": "execute_result",
          "data": {
            "text/plain": [
              "2000.0"
            ]
          },
          "metadata": {
            "tags": []
          },
          "execution_count": 50
        }
      ]
    },
    {
      "cell_type": "code",
      "metadata": {
        "id": "PbDoMan1CpZZ",
        "colab": {
          "base_uri": "https://localhost:8080/"
        },
        "outputId": "c421bad2-0f4c-4291-ae1b-7d402457d5c4"
      },
      "source": [
        "proc_median = game_requirements.loc[:,'Processor MHZ'].median()\r\n",
        "proc_median"
      ],
      "execution_count": null,
      "outputs": [
        {
          "output_type": "execute_result",
          "data": {
            "text/plain": [
              "46260.17317347726"
            ]
          },
          "metadata": {
            "tags": []
          },
          "execution_count": 51
        }
      ]
    },
    {
      "cell_type": "markdown",
      "metadata": {
        "id": "lFGKmnVpcezh"
      },
      "source": [
        "### Cálculo de la desviación típica\r\n",
        "\r\n",
        "Además, también vamos a calcular la desviación típica, que nos ofrecerá información sobre la dispersión media de la RAM requerida y del Procesador de cada juego."
      ]
    },
    {
      "cell_type": "code",
      "metadata": {
        "id": "FeLhCeEIKlbS",
        "colab": {
          "base_uri": "https://localhost:8080/"
        },
        "outputId": "f56c330e-6625-430b-f663-61f091507f68"
      },
      "source": [
        "# Agrupamos por desviación típica\r\n",
        "ram_std = game_requirements.loc[:,'RAM_MBytes'].std(ddof=0)\r\n",
        "ram_std"
      ],
      "execution_count": null,
      "outputs": [
        {
          "output_type": "execute_result",
          "data": {
            "text/plain": [
              "17251.404860834657"
            ]
          },
          "metadata": {
            "tags": []
          },
          "execution_count": 53
        }
      ]
    },
    {
      "cell_type": "code",
      "metadata": {
        "id": "xq7eR5Rxbjbp",
        "colab": {
          "base_uri": "https://localhost:8080/"
        },
        "outputId": "1721f762-b952-4653-c37d-4ae91ad44f46"
      },
      "source": [
        "# Agrupamos por desviación típica\r\n",
        "proc_std = game_requirements.loc[:,'Processor MHZ'].std(ddof=0)\r\n",
        "proc_std"
      ],
      "execution_count": null,
      "outputs": [
        {
          "output_type": "execute_result",
          "data": {
            "text/plain": [
              "2456589.9358918187"
            ]
          },
          "metadata": {
            "tags": []
          },
          "execution_count": 52
        }
      ]
    },
    {
      "cell_type": "markdown",
      "metadata": {
        "id": "Cc2tCQ2cgkAC"
      },
      "source": [
        "###Exportando los datos \r\n",
        "\r\n",
        "Mediante la siguiente función, podremos guardar y exportar los datos calculados en formato CSV, de tal forma, que se puedan cargar en otros cuadernos para seguir con el desarrollo de este estudio."
      ]
    },
    {
      "cell_type": "code",
      "metadata": {
        "id": "Hku6Wzg7hVHm"
      },
      "source": [
        "game_requirements.to_csv('auxiliar1.csv')"
      ],
      "execution_count": null,
      "outputs": []
    }
  ]
}